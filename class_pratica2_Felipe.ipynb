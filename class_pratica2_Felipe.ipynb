{
  "cells": [
    {
      "cell_type": "markdown",
      "metadata": {
        "id": "_d3ZnDn5Rbll"
      },
      "source": [
        "# PUC-Rio \n",
        "## Departamento de Engenharia Elétrica\n",
        "## Trabalho 2 - Previsão de séries temporais\n",
        "\n",
        "Estudante: Felipe da Costa Pereira  \n",
        "\n",
        "Base de dados: Microclima2"
      ]
    },
    {
      "cell_type": "code",
      "execution_count": 76,
      "metadata": {
        "id": "EHYb1u2lRblo"
      },
      "outputs": [],
      "source": [
        "import numpy as np \n",
        "import pandas as pd \n",
        "import matplotlib.pyplot as plt \n",
        "import seaborn as sns\n",
        "from statsmodels.tsa.seasonal import seasonal_decompose\n",
        "\n",
        "import torch \n",
        "import torch.nn as nn\n",
        "from torch.utils.data import WeightedRandomSampler, Dataset, DataLoader \n",
        "import torch.nn.functional as F\n",
        "\n",
        "from sklearn.metrics import mean_squared_error, mean_absolute_error, r2_score\n",
        "import os\n",
        "\n",
        "from tqdm.notebook import tqdm\n",
        "\n",
        "#allow to print more than one var at a cell\n",
        "from IPython.core.interactiveshell import InteractiveShell\n",
        "InteractiveShell.ast_node_interactivity = \"all\""
      ]
    },
    {
      "cell_type": "markdown",
      "metadata": {},
      "source": [
        "## Preparação para a lista"
      ]
    },
    {
      "cell_type": "code",
      "execution_count": 12,
      "metadata": {
        "id": "2W79BR_qDfKI"
      },
      "outputs": [],
      "source": [
        "class CustomDataset(Dataset):\n",
        "    \n",
        "    def __init__(self, X_data, y_data):\n",
        "        self.X_data = X_data\n",
        "        self.y_data = y_data\n",
        "        \n",
        "    def __getitem__(self, index):\n",
        "        return self.X_data[index], self.y_data[index]\n",
        "        \n",
        "    def __len__ (self):\n",
        "        return len(self.X_data)\n"
      ]
    },
    {
      "cell_type": "code",
      "execution_count": 13,
      "metadata": {
        "id": "luN5IAD7DquQ"
      },
      "outputs": [],
      "source": [
        "class NeuralNetwork(torch.nn.Module):\n",
        "  '''\n",
        "  Objeto criado para facilitar o desenvolvimento dos scripts das aulas práticas.\n",
        "  Opção alternativa à criação externa fdo modelo. Basicamente serve como um \n",
        "  'agregador'  de trechos comuns para a criação do modelo. Por exemplo, ao invés\n",
        "  de gastar n+1 linhas para a criação de um modelo com n camadas, podemos criar \n",
        "  o mesmo modelo com apenas uma linha.\n",
        "  \n",
        "  Parâmetros de entrada: \n",
        "  - hidden_neurons: Lista com a quantidade de neurônios na camada escondida. \n",
        "  - hidden_activation: Função de ativação para cada camada escondida. Aceita \n",
        "  como parâmetro string ou lista. Caso o parâmetro receba string, então a mesma\n",
        "  função de ativação é utilizada para todas as camadas escondidas. Caso seja uma \n",
        "  lista, cada camada terá sua propria função de ativação definida pela lista.\n",
        "  - output_activation: Função de ativação para a camada de saída.\n",
        "  - lr: Taxa de aprendizado\n",
        "  - n_input: Tamanho do vetor de entrada.\n",
        "  - n_output: Saída do modelo.\n",
        "  '''\n",
        "  def __init__(self,hidden_neurons = 4, hidden_activation = 'relu', output_activation='softmax', lr = 0.05, n_input = 1, n_output = 1):\n",
        "    # create model\n",
        "    super(NeuralNetwork, self).__init__()\n",
        "\n",
        "    self.activations = {'relu': nn.ReLU(), 'sigmoid':nn.Sigmoid(), 'softmax':nn.Softmax()}\n",
        "\n",
        "    self.fc1 = nn.Linear(n_input, hidden_neurons)\n",
        "    self.ha = self.activations[hidden_activation]\n",
        "    self.fc2 = nn.Linear(hidden_neurons, n_output)\n",
        "    #self.out = self.activations[output_activation]\n",
        "    \n",
        "    #self.out = nn.Sigmoid() #Para o caso binário\n",
        "  def forward(self,x):\n",
        "    h = self.fc1(x)\n",
        "    h1 = self.ha(h) \n",
        "    y = self.fc2(h1) \n",
        "    #y = self.out(h2)\n",
        "    return y\n"
      ]
    },
    {
      "cell_type": "code",
      "execution_count": 14,
      "metadata": {
        "id": "ZH4nTjcwRblp"
      },
      "outputs": [],
      "source": [
        "def transform_data(data, lag = 1, test_split = 0.1, normalize = True, category = 'binary'):\n",
        "    \n",
        "    '''\n",
        "    Função para transformação de dados para a 2ª Lista de exercícios.\n",
        "    A transformação de dados nesta etapa tem duas funções principais: a transformação da série em uma forma tabular para \n",
        "    o aprendizado de Redes Neurais e normalização dos dados.\n",
        "    Parâmetros de entrada:\n",
        "    - data: base de dados a ser ajeitado.\n",
        "    - test_split: propoporção da base de dados para teste. Caso seja um float entre 0 e 1, o valor é interpretado como proporção. \n",
        "    Caso seja um valor inteiro, é compreendido como o tempo reservado para generalização (e.g. lag = 12 reserva os 12 últimos \n",
        "    registros para o teste).\n",
        "    - normalize: normalização da série. Default True\n",
        "    - categ: string contendo a codificação a ser realizada para a variável exógena (no caso, o mês).\n",
        "\n",
        "    A função retorna dois dataframes, sendo o primeiro para treinamento e o segundo para generalização.\n",
        "    '''\n",
        "\n",
        "    global _min\n",
        "    global _max\n",
        "    \n",
        "    \n",
        "    data_values = data.values\n",
        "    \n",
        "    if 0 < test_split < 1.0:\n",
        "        l = data_values.shape[0]\n",
        "        train_values = data_values[:-int(test_split*l),0].reshape(-1,1)\n",
        "        test_values = data_values[-int(test_split*l):,0].reshape(-1,1)\n",
        "        train_idx = data_values[:-int(test_split*l),1].reshape(-1,1)\n",
        "        test_idx = data_values[-int(test_split*l):,1].reshape(-1,1)\n",
        "        \n",
        "    elif test_split > 1 and type(test_split) is int:\n",
        "\n",
        "        train_values = data_values[:-test_split,0].reshape(-1,1)\n",
        "        test_values = data_values[-test_split:,0].reshape(-1,1)\n",
        "        train_idx = data_values[:-test_split,1].reshape(-1,1)\n",
        "        test_idx = data_values[-test_split:,1].reshape(-1,1)\n",
        "        \n",
        "    else:\n",
        "        print('Test split not understood. Test split should be float between 0 and 1 or integer for index')\n",
        "    \n",
        "    assert test_values.shape[0] >= (lag)\n",
        "    \n",
        "    _min = np.min(train_values)\n",
        "    _max = np.max(train_values)\n",
        "    \n",
        "    if normalize:\n",
        "        \n",
        "        test_values = (test_values - _min)/(_max - _min)\n",
        "        train_values = (train_values - _min)/(_max - _min)\n",
        "        \n",
        "    train_data = np.zeros((train_values.shape[0] - (lag + 1), lag + 2))\n",
        "    test_data = np.zeros((test_values.shape[0], lag + 2))\n",
        "    \n",
        "    \n",
        "    all_data = np.vstack((train_values,test_values))\n",
        "    all_idx = np.vstack((train_idx,test_idx))\n",
        "\n",
        "    new_data = np.zeros((train_values.shape[0] - (lag + 1) + test_values.shape[0],lag + 2))\n",
        "    \n",
        "    \n",
        "    \n",
        "    for i in range(lag + 2):\n",
        "        new_data[:,i] = all_data[i:new_data.shape[0]+i,0]\n",
        "        \n",
        "\n",
        "    \n",
        "    if category == 'binary':\n",
        "        binary_rep = [np.binary_repr(z,width=4) for z in all_idx.astype('int').reshape(-1,)]\n",
        "        t0 = np.array([int(v) for s in binary_rep for v in s[0]])\n",
        "        t1 = np.array([int(v) for s in binary_rep for v in s[1]])\n",
        "        t2 = np.array([int(v) for s in binary_rep for v in s[2]])\n",
        "        t3 = np.array([int(v) for s in binary_rep for v in s[3]])\n",
        "        t = np.vstack((t0,t1,t2,t3)).T\n",
        "        t = t[-new_data.shape[0]:,:]\n",
        "        temp_idx = [f'month_{i}' for i in range(4)]\n",
        "        \n",
        "    elif category == '1toN':\n",
        "        pass\n",
        "    \n",
        "    else:\n",
        "        t = (all_idx - np.min(train_idx))/(np.max(train_idx) - np.min(train_idx))\n",
        "        t = t.reshape(-1,1)\n",
        "        t = t[-new_data.shape[0]:,:]\n",
        "        temp_idx = ['month']\n",
        "    \n",
        "    \n",
        "    new_data = np.hstack((t,new_data))\n",
        "    \n",
        "    train_data = new_data[:-test_values.shape[0],:]\n",
        "    test_data = new_data[-test_values.shape[0]:,:]\n",
        "    \n",
        "    \n",
        "    data_columns = [f'y(t{i})' if i < 0 else 'y(t)' if i == 0 else f'y(t+{i})' for i in range(-lag,2)] \n",
        "    temp_idx.extend(data_columns)\n",
        "    new_train_df = pd.DataFrame(train_data, columns=temp_idx)\n",
        "    new_test_df = pd.DataFrame(test_data, columns=temp_idx)\n",
        "    \n",
        "    \n",
        "    \n",
        "    \n",
        "    return new_train_df, new_test_df\n",
        "        \n",
        "    \n",
        "    \n",
        "    "
      ]
    },
    {
      "cell_type": "code",
      "execution_count": 15,
      "metadata": {},
      "outputs": [],
      "source": [
        "# runnig locally, not necessary becasuse I have copied locally\n",
        "# !git clone https://github.com/mdrs-thiago/PUC_Redes_Neurais\n",
        "# os.chdir('/content/PUC_Redes_Neurais/pos_grad/lista_2')"
      ]
    },
    {
      "cell_type": "code",
      "execution_count": 29,
      "metadata": {
        "id": "jGxNjbU_Rblr"
      },
      "outputs": [
        {
          "data": {
            "text/html": [
              "<div>\n",
              "<style scoped>\n",
              "    .dataframe tbody tr th:only-of-type {\n",
              "        vertical-align: middle;\n",
              "    }\n",
              "\n",
              "    .dataframe tbody tr th {\n",
              "        vertical-align: top;\n",
              "    }\n",
              "\n",
              "    .dataframe thead th {\n",
              "        text-align: right;\n",
              "    }\n",
              "</style>\n",
              "<table border=\"1\" class=\"dataframe\">\n",
              "  <thead>\n",
              "    <tr style=\"text-align: right;\">\n",
              "      <th></th>\n",
              "      <th>value</th>\n",
              "      <th>time</th>\n",
              "    </tr>\n",
              "  </thead>\n",
              "  <tbody>\n",
              "    <tr>\n",
              "      <th>0</th>\n",
              "      <td>39.650538</td>\n",
              "      <td>1.0</td>\n",
              "    </tr>\n",
              "    <tr>\n",
              "      <th>1</th>\n",
              "      <td>40.079960</td>\n",
              "      <td>2.0</td>\n",
              "    </tr>\n",
              "    <tr>\n",
              "      <th>2</th>\n",
              "      <td>37.539247</td>\n",
              "      <td>3.0</td>\n",
              "    </tr>\n",
              "    <tr>\n",
              "      <th>3</th>\n",
              "      <td>33.522407</td>\n",
              "      <td>4.0</td>\n",
              "    </tr>\n",
              "    <tr>\n",
              "      <th>4</th>\n",
              "      <td>27.467921</td>\n",
              "      <td>5.0</td>\n",
              "    </tr>\n",
              "    <tr>\n",
              "      <th>5</th>\n",
              "      <td>26.233519</td>\n",
              "      <td>6.0</td>\n",
              "    </tr>\n",
              "    <tr>\n",
              "      <th>6</th>\n",
              "      <td>26.315412</td>\n",
              "      <td>7.0</td>\n",
              "    </tr>\n",
              "    <tr>\n",
              "      <th>7</th>\n",
              "      <td>28.635663</td>\n",
              "      <td>8.0</td>\n",
              "    </tr>\n",
              "    <tr>\n",
              "      <th>8</th>\n",
              "      <td>28.992778</td>\n",
              "      <td>9.0</td>\n",
              "    </tr>\n",
              "    <tr>\n",
              "      <th>9</th>\n",
              "      <td>28.389068</td>\n",
              "      <td>10.0</td>\n",
              "    </tr>\n",
              "    <tr>\n",
              "      <th>10</th>\n",
              "      <td>28.925185</td>\n",
              "      <td>11.0</td>\n",
              "    </tr>\n",
              "    <tr>\n",
              "      <th>11</th>\n",
              "      <td>36.096953</td>\n",
              "      <td>12.0</td>\n",
              "    </tr>\n",
              "    <tr>\n",
              "      <th>12</th>\n",
              "      <td>38.287276</td>\n",
              "      <td>1.0</td>\n",
              "    </tr>\n",
              "  </tbody>\n",
              "</table>\n",
              "</div>"
            ],
            "text/plain": [
              "        value  time\n",
              "0   39.650538   1.0\n",
              "1   40.079960   2.0\n",
              "2   37.539247   3.0\n",
              "3   33.522407   4.0\n",
              "4   27.467921   5.0\n",
              "5   26.233519   6.0\n",
              "6   26.315412   7.0\n",
              "7   28.635663   8.0\n",
              "8   28.992778   9.0\n",
              "9   28.389068  10.0\n",
              "10  28.925185  11.0\n",
              "11  36.096953  12.0\n",
              "12  38.287276   1.0"
            ]
          },
          "execution_count": 29,
          "metadata": {},
          "output_type": "execute_result"
        }
      ],
      "source": [
        "path = 'datasets/microclima2/microclima2.csv'\n",
        "raw_data = pd.read_csv(path)\n",
        "\n",
        "raw_data.head(13)"
      ]
    },
    {
      "cell_type": "markdown",
      "metadata": {
        "id": "KCKBkpmqTjfU"
      },
      "source": [
        "## Parte 1 - Compreensão do problema"
      ]
    },
    {
      "cell_type": "markdown",
      "metadata": {
        "id": "BP54d77HTnG0"
      },
      "source": [
        "#### 1.\tVisualize, em forma de gráfico, a dinâmica temporal da série escolhida. A série é adequada para a modelagem usando Redes Neurais? Caso não seja, que técnicas podem ser aplicadas para ajustar o comportamento da série?"
      ]
    },
    {
      "cell_type": "code",
      "execution_count": 30,
      "metadata": {
        "id": "-tyzdEUsTroC"
      },
      "outputs": [
        {
          "data": {
            "image/png": "[encoded data removed]",
            "text/plain": [
              "<Figure size 1008x720 with 4 Axes>"
            ]
          },
          "metadata": {
            "needs_background": "light"
          },
          "output_type": "display_data"
        }
      ],
      "source": [
        "plt.subplots(2,2,figsize=(14,10))\n",
        "plt.subplot(221)\n",
        "sns.lineplot(data=raw_data, x=raw_data.index, y='value', marker='o')\n",
        "plt.subplot(222)\n",
        "sns.lineplot(data=raw_data, x=raw_data.index, y='value', hue='time', marker='o', palette='tab10')\n",
        "plt.subplot(223)\n",
        "sns.barplot(data=raw_data, y='value', x='time', palette='tab10')\n",
        "plt.subplot(224)\n",
        "sns.lineplot(data=raw_data, x='time', y='value', marker='o', palette='tab10')\n",
        "pass;"
      ]
    },
    {
      "cell_type": "markdown",
      "metadata": {},
      "source": [
        "#### Resposta\n",
        ">Notamos que a série tem sazonalidade e os dados não estão normalizados. \n",
        "\n",
        ">Se considerarmos apenas os valores da série, será mais difícil capturar o comportamento de sazonalidade da mesma. O ideal seria considerar como variável exógena o mês, já que esta variável parece ter boa correlação com a sazonalidade da série"
      ]
    },
    {
      "cell_type": "markdown",
      "metadata": {
        "id": "n5PLA6UnTm-o"
      },
      "source": [
        "#### 2.\tNesta 2ª lista de exercícios, usaremos uma variável exógena que representa o mês de previsão (i.e. no instante t+1). De que forma esta variável pode auxiliar na previsão da série temporal?"
      ]
    },
    {
      "cell_type": "markdown",
      "metadata": {
        "id": "qan7fXx1Rblt"
      },
      "source": [
        ">A variável exógena mês tem correlação com os valores da série. Com essa entrada no modelo é possível ter mais facilidade para capturar o comportametno de alta frequência da série, ou sua sazonalidade."
      ]
    },
    {
      "cell_type": "markdown",
      "metadata": {},
      "source": [
        "Decompondo a série"
      ]
    },
    {
      "cell_type": "code",
      "execution_count": 32,
      "metadata": {},
      "outputs": [
        {
          "data": {
            "image/png": "[encoded data removed]",
            "text/plain": [
              "<Figure size 576x432 with 1 Axes>"
            ]
          },
          "metadata": {
            "needs_background": "light"
          },
          "output_type": "display_data"
        }
      ],
      "source": [
        "# decompondo a serie\n",
        "season = seasonal_decompose(raw_data['value'], period=12)\n",
        "\n",
        "plt.figure(figsize=(8,6))\n",
        "sns.lineplot(data=raw_data, x=raw_data.index, y='value', label='Série')\n",
        "sns.lineplot(x=raw_data.index, y=season.trend , label='Tendência')\n",
        "sns.lineplot(x=raw_data.index, y=season.seasonal, label='Sazonalidade')\n",
        "sns.lineplot(x=raw_data.index, y=season.seasonal+season.trend, label='Tendência + Sazonalidade')\n",
        "sns.lineplot(data=raw_data, x=raw_data.index, y='time', label='mês')\n",
        "\n",
        "# season.seasonal\n",
        "pass;"
      ]
    },
    {
      "cell_type": "markdown",
      "metadata": {},
      "source": [
        "#### 3. Observe que a base de dados não está em um formato adequado para o uso imediato de um modelo de Rede Neural para previsão de séries temporais. Descreva as etapas necessárias de transformação desta base de dados para que possamos utilizá-la no treinamento de uma MLP. Considere que os padrões de entrada (e saída) devem ser normalizados."
      ]
    },
    {
      "cell_type": "markdown",
      "metadata": {},
      "source": [
        "Resposta:\n",
        "\n",
        ">Etapa 1. Selecionar o lag da previsão (quantos valores anteriores serão usados pra prever o valor seguinte): <b>j</b>\n",
        ">\n",
        ">Etapa 2. Fazer o janelamento dos dados de entrada, ou seja, devemos construir uma matriz X de entradas, onde cada linha é um exemplo para treinamento. Para previsão do valor da série no passo <b>n</b> devemos tomar os <b>j</b> valores anteriores da série como sendo as entradas: <b>y(n), y(n-1), y(n-2), ... , y(n-j)</b>, e o valor da série no momento <b>n+1</b> como sendo o valor da saída: <b>y(n+1)</b>.\n",
        ">\n",
        ">Etapa 3. Codificar a variável exógena, adicioná-la à matriz X\n",
        ">\n",
        ">Etapa 4. Normalizar X\n",
        ">\n",
        ">Etapa 5. Treinar o modelo\n",
        ">\n",
        ">Etapa 6. Separar exemplos para avaliar o comportamento da rede treinada (usar os últimos valores da séria para calcular os valores por ela previstos)\n",
        ">\n",
        ">Etapa 7. Avaliar o erro associado à previsão do modelo.  \n"
      ]
    },
    {
      "cell_type": "markdown",
      "metadata": {
        "id": "XNlVnXbmUNmF"
      },
      "source": [
        "## Parte 2 - Previsão one-step"
      ]
    },
    {
      "cell_type": "markdown",
      "metadata": {},
      "source": [
        "<b> IMPORTANTE! </b> Este processo não é a previsão multi-step, conforme ensinado em sala de aula. \n",
        "Esta parte da lista é importante para evitar erros de avaliação para a previsão de séries temporais com um horizonte de previsão maior que 1."
      ]
    },
    {
      "cell_type": "markdown",
      "metadata": {
        "id": "k6zqvC40URCh"
      },
      "source": [
        "#### 1.\tExecute o script para a previsão one-step. Avalie o resultado (conjunto de treinamento e teste) usando métricas apropriadas, como RMSE e MAE."
      ]
    },
    {
      "cell_type": "code",
      "execution_count": 33,
      "metadata": {
        "id": "Tp8MWFhSbrCS"
      },
      "outputs": [],
      "source": [
        "prev = 12\n",
        "train_val, test_val = transform_data(raw_data, lag=12, test_split = prev, normalize=True, category='binary')"
      ]
    },
    {
      "cell_type": "code",
      "execution_count": 34,
      "metadata": {
        "colab": {
          "base_uri": "https://localhost:8080/",
          "height": 488
        },
        "id": "QWasfnhDbxfM",
        "outputId": "a97fc6ff-1104-4ea1-b674-e11c2dfab9fe"
      },
      "outputs": [
        {
          "data": {
            "text/html": [
              "<div>\n",
              "<style scoped>\n",
              "    .dataframe tbody tr th:only-of-type {\n",
              "        vertical-align: middle;\n",
              "    }\n",
              "\n",
              "    .dataframe tbody tr th {\n",
              "        vertical-align: top;\n",
              "    }\n",
              "\n",
              "    .dataframe thead th {\n",
              "        text-align: right;\n",
              "    }\n",
              "</style>\n",
              "<table border=\"1\" class=\"dataframe\">\n",
              "  <thead>\n",
              "    <tr style=\"text-align: right;\">\n",
              "      <th></th>\n",
              "      <th>month_0</th>\n",
              "      <th>month_1</th>\n",
              "      <th>month_2</th>\n",
              "      <th>month_3</th>\n",
              "      <th>y(t-12)</th>\n",
              "      <th>y(t-11)</th>\n",
              "      <th>y(t-10)</th>\n",
              "      <th>y(t-9)</th>\n",
              "      <th>y(t-8)</th>\n",
              "      <th>y(t-7)</th>\n",
              "      <th>y(t-6)</th>\n",
              "      <th>y(t-5)</th>\n",
              "      <th>y(t-4)</th>\n",
              "      <th>y(t-3)</th>\n",
              "      <th>y(t-2)</th>\n",
              "      <th>y(t-1)</th>\n",
              "      <th>y(t)</th>\n",
              "      <th>y(t+1)</th>\n",
              "    </tr>\n",
              "  </thead>\n",
              "  <tbody>\n",
              "    <tr>\n",
              "      <th>0</th>\n",
              "      <td>0.0</td>\n",
              "      <td>0.0</td>\n",
              "      <td>1.0</td>\n",
              "      <td>0.0</td>\n",
              "      <td>0.971445</td>\n",
              "      <td>1.000000</td>\n",
              "      <td>0.831055</td>\n",
              "      <td>0.563954</td>\n",
              "      <td>0.161359</td>\n",
              "      <td>0.079277</td>\n",
              "      <td>0.084723</td>\n",
              "      <td>0.239008</td>\n",
              "      <td>0.262755</td>\n",
              "      <td>0.222611</td>\n",
              "      <td>0.258260</td>\n",
              "      <td>0.735149</td>\n",
              "      <td>0.880795</td>\n",
              "      <td>0.886457</td>\n",
              "    </tr>\n",
              "    <tr>\n",
              "      <th>1</th>\n",
              "      <td>0.0</td>\n",
              "      <td>0.0</td>\n",
              "      <td>1.0</td>\n",
              "      <td>1.0</td>\n",
              "      <td>1.000000</td>\n",
              "      <td>0.831055</td>\n",
              "      <td>0.563954</td>\n",
              "      <td>0.161359</td>\n",
              "      <td>0.079277</td>\n",
              "      <td>0.084723</td>\n",
              "      <td>0.239008</td>\n",
              "      <td>0.262755</td>\n",
              "      <td>0.222611</td>\n",
              "      <td>0.258260</td>\n",
              "      <td>0.735149</td>\n",
              "      <td>0.880795</td>\n",
              "      <td>0.886457</td>\n",
              "      <td>0.642639</td>\n",
              "    </tr>\n",
              "    <tr>\n",
              "      <th>2</th>\n",
              "      <td>0.0</td>\n",
              "      <td>1.0</td>\n",
              "      <td>0.0</td>\n",
              "      <td>0.0</td>\n",
              "      <td>0.831055</td>\n",
              "      <td>0.563954</td>\n",
              "      <td>0.161359</td>\n",
              "      <td>0.079277</td>\n",
              "      <td>0.084723</td>\n",
              "      <td>0.239008</td>\n",
              "      <td>0.262755</td>\n",
              "      <td>0.222611</td>\n",
              "      <td>0.258260</td>\n",
              "      <td>0.735149</td>\n",
              "      <td>0.880795</td>\n",
              "      <td>0.886457</td>\n",
              "      <td>0.642639</td>\n",
              "      <td>0.337537</td>\n",
              "    </tr>\n",
              "    <tr>\n",
              "      <th>3</th>\n",
              "      <td>0.0</td>\n",
              "      <td>1.0</td>\n",
              "      <td>0.0</td>\n",
              "      <td>1.0</td>\n",
              "      <td>0.563954</td>\n",
              "      <td>0.161359</td>\n",
              "      <td>0.079277</td>\n",
              "      <td>0.084723</td>\n",
              "      <td>0.239008</td>\n",
              "      <td>0.262755</td>\n",
              "      <td>0.222611</td>\n",
              "      <td>0.258260</td>\n",
              "      <td>0.735149</td>\n",
              "      <td>0.880795</td>\n",
              "      <td>0.886457</td>\n",
              "      <td>0.642639</td>\n",
              "      <td>0.337537</td>\n",
              "      <td>0.136262</td>\n",
              "    </tr>\n",
              "    <tr>\n",
              "      <th>4</th>\n",
              "      <td>0.0</td>\n",
              "      <td>1.0</td>\n",
              "      <td>1.0</td>\n",
              "      <td>0.0</td>\n",
              "      <td>0.161359</td>\n",
              "      <td>0.079277</td>\n",
              "      <td>0.084723</td>\n",
              "      <td>0.239008</td>\n",
              "      <td>0.262755</td>\n",
              "      <td>0.222611</td>\n",
              "      <td>0.258260</td>\n",
              "      <td>0.735149</td>\n",
              "      <td>0.880795</td>\n",
              "      <td>0.886457</td>\n",
              "      <td>0.642639</td>\n",
              "      <td>0.337537</td>\n",
              "      <td>0.136262</td>\n",
              "      <td>0.000000</td>\n",
              "    </tr>\n",
              "    <tr>\n",
              "      <th>...</th>\n",
              "      <td>...</td>\n",
              "      <td>...</td>\n",
              "      <td>...</td>\n",
              "      <td>...</td>\n",
              "      <td>...</td>\n",
              "      <td>...</td>\n",
              "      <td>...</td>\n",
              "      <td>...</td>\n",
              "      <td>...</td>\n",
              "      <td>...</td>\n",
              "      <td>...</td>\n",
              "      <td>...</td>\n",
              "      <td>...</td>\n",
              "      <td>...</td>\n",
              "      <td>...</td>\n",
              "      <td>...</td>\n",
              "      <td>...</td>\n",
              "      <td>...</td>\n",
              "    </tr>\n",
              "    <tr>\n",
              "      <th>114</th>\n",
              "      <td>1.0</td>\n",
              "      <td>0.0</td>\n",
              "      <td>0.0</td>\n",
              "      <td>0.0</td>\n",
              "      <td>0.149252</td>\n",
              "      <td>0.169844</td>\n",
              "      <td>0.286705</td>\n",
              "      <td>0.403197</td>\n",
              "      <td>0.415928</td>\n",
              "      <td>0.597690</td>\n",
              "      <td>0.552609</td>\n",
              "      <td>0.681684</td>\n",
              "      <td>0.596855</td>\n",
              "      <td>0.458879</td>\n",
              "      <td>0.176922</td>\n",
              "      <td>0.108941</td>\n",
              "      <td>0.077823</td>\n",
              "      <td>0.122248</td>\n",
              "    </tr>\n",
              "    <tr>\n",
              "      <th>115</th>\n",
              "      <td>1.0</td>\n",
              "      <td>0.0</td>\n",
              "      <td>0.0</td>\n",
              "      <td>1.0</td>\n",
              "      <td>0.169844</td>\n",
              "      <td>0.286705</td>\n",
              "      <td>0.403197</td>\n",
              "      <td>0.415928</td>\n",
              "      <td>0.597690</td>\n",
              "      <td>0.552609</td>\n",
              "      <td>0.681684</td>\n",
              "      <td>0.596855</td>\n",
              "      <td>0.458879</td>\n",
              "      <td>0.176922</td>\n",
              "      <td>0.108941</td>\n",
              "      <td>0.077823</td>\n",
              "      <td>0.122248</td>\n",
              "      <td>0.089916</td>\n",
              "    </tr>\n",
              "    <tr>\n",
              "      <th>116</th>\n",
              "      <td>1.0</td>\n",
              "      <td>0.0</td>\n",
              "      <td>1.0</td>\n",
              "      <td>0.0</td>\n",
              "      <td>0.286705</td>\n",
              "      <td>0.403197</td>\n",
              "      <td>0.415928</td>\n",
              "      <td>0.597690</td>\n",
              "      <td>0.552609</td>\n",
              "      <td>0.681684</td>\n",
              "      <td>0.596855</td>\n",
              "      <td>0.458879</td>\n",
              "      <td>0.176922</td>\n",
              "      <td>0.108941</td>\n",
              "      <td>0.077823</td>\n",
              "      <td>0.122248</td>\n",
              "      <td>0.089916</td>\n",
              "      <td>0.331184</td>\n",
              "    </tr>\n",
              "    <tr>\n",
              "      <th>117</th>\n",
              "      <td>1.0</td>\n",
              "      <td>0.0</td>\n",
              "      <td>1.0</td>\n",
              "      <td>1.0</td>\n",
              "      <td>0.403197</td>\n",
              "      <td>0.415928</td>\n",
              "      <td>0.597690</td>\n",
              "      <td>0.552609</td>\n",
              "      <td>0.681684</td>\n",
              "      <td>0.596855</td>\n",
              "      <td>0.458879</td>\n",
              "      <td>0.176922</td>\n",
              "      <td>0.108941</td>\n",
              "      <td>0.077823</td>\n",
              "      <td>0.122248</td>\n",
              "      <td>0.089916</td>\n",
              "      <td>0.331184</td>\n",
              "      <td>0.200446</td>\n",
              "    </tr>\n",
              "    <tr>\n",
              "      <th>118</th>\n",
              "      <td>1.0</td>\n",
              "      <td>1.0</td>\n",
              "      <td>0.0</td>\n",
              "      <td>0.0</td>\n",
              "      <td>0.415928</td>\n",
              "      <td>0.597690</td>\n",
              "      <td>0.552609</td>\n",
              "      <td>0.681684</td>\n",
              "      <td>0.596855</td>\n",
              "      <td>0.458879</td>\n",
              "      <td>0.176922</td>\n",
              "      <td>0.108941</td>\n",
              "      <td>0.077823</td>\n",
              "      <td>0.122248</td>\n",
              "      <td>0.089916</td>\n",
              "      <td>0.331184</td>\n",
              "      <td>0.200446</td>\n",
              "      <td>0.365814</td>\n",
              "    </tr>\n",
              "  </tbody>\n",
              "</table>\n",
              "<p>119 rows × 18 columns</p>\n",
              "</div>"
            ],
            "text/plain": [
              "     month_0  month_1  month_2  month_3   y(t-12)   y(t-11)   y(t-10)  \\\n",
              "0        0.0      0.0      1.0      0.0  0.971445  1.000000  0.831055   \n",
              "1        0.0      0.0      1.0      1.0  1.000000  0.831055  0.563954   \n",
              "2        0.0      1.0      0.0      0.0  0.831055  0.563954  0.161359   \n",
              "3        0.0      1.0      0.0      1.0  0.563954  0.161359  0.079277   \n",
              "4        0.0      1.0      1.0      0.0  0.161359  0.079277  0.084723   \n",
              "..       ...      ...      ...      ...       ...       ...       ...   \n",
              "114      1.0      0.0      0.0      0.0  0.149252  0.169844  0.286705   \n",
              "115      1.0      0.0      0.0      1.0  0.169844  0.286705  0.403197   \n",
              "116      1.0      0.0      1.0      0.0  0.286705  0.403197  0.415928   \n",
              "117      1.0      0.0      1.0      1.0  0.403197  0.415928  0.597690   \n",
              "118      1.0      1.0      0.0      0.0  0.415928  0.597690  0.552609   \n",
              "\n",
              "       y(t-9)    y(t-8)    y(t-7)    y(t-6)    y(t-5)    y(t-4)    y(t-3)  \\\n",
              "0    0.563954  0.161359  0.079277  0.084723  0.239008  0.262755  0.222611   \n",
              "1    0.161359  0.079277  0.084723  0.239008  0.262755  0.222611  0.258260   \n",
              "2    0.079277  0.084723  0.239008  0.262755  0.222611  0.258260  0.735149   \n",
              "3    0.084723  0.239008  0.262755  0.222611  0.258260  0.735149  0.880795   \n",
              "4    0.239008  0.262755  0.222611  0.258260  0.735149  0.880795  0.886457   \n",
              "..        ...       ...       ...       ...       ...       ...       ...   \n",
              "114  0.403197  0.415928  0.597690  0.552609  0.681684  0.596855  0.458879   \n",
              "115  0.415928  0.597690  0.552609  0.681684  0.596855  0.458879  0.176922   \n",
              "116  0.597690  0.552609  0.681684  0.596855  0.458879  0.176922  0.108941   \n",
              "117  0.552609  0.681684  0.596855  0.458879  0.176922  0.108941  0.077823   \n",
              "118  0.681684  0.596855  0.458879  0.176922  0.108941  0.077823  0.122248   \n",
              "\n",
              "       y(t-2)    y(t-1)      y(t)    y(t+1)  \n",
              "0    0.258260  0.735149  0.880795  0.886457  \n",
              "1    0.735149  0.880795  0.886457  0.642639  \n",
              "2    0.880795  0.886457  0.642639  0.337537  \n",
              "3    0.886457  0.642639  0.337537  0.136262  \n",
              "4    0.642639  0.337537  0.136262  0.000000  \n",
              "..        ...       ...       ...       ...  \n",
              "114  0.176922  0.108941  0.077823  0.122248  \n",
              "115  0.108941  0.077823  0.122248  0.089916  \n",
              "116  0.077823  0.122248  0.089916  0.331184  \n",
              "117  0.122248  0.089916  0.331184  0.200446  \n",
              "118  0.089916  0.331184  0.200446  0.365814  \n",
              "\n",
              "[119 rows x 18 columns]"
            ]
          },
          "execution_count": 34,
          "metadata": {},
          "output_type": "execute_result"
        }
      ],
      "source": [
        "train_val"
      ]
    },
    {
      "cell_type": "code",
      "execution_count": 35,
      "metadata": {
        "colab": {
          "base_uri": "https://localhost:8080/",
          "height": 490
        },
        "id": "mqharkqDbxUk",
        "outputId": "e045afaf-5867-4da9-85a2-7cf46dc1db26"
      },
      "outputs": [
        {
          "data": {
            "text/html": [
              "<div>\n",
              "<style scoped>\n",
              "    .dataframe tbody tr th:only-of-type {\n",
              "        vertical-align: middle;\n",
              "    }\n",
              "\n",
              "    .dataframe tbody tr th {\n",
              "        vertical-align: top;\n",
              "    }\n",
              "\n",
              "    .dataframe thead th {\n",
              "        text-align: right;\n",
              "    }\n",
              "</style>\n",
              "<table border=\"1\" class=\"dataframe\">\n",
              "  <thead>\n",
              "    <tr style=\"text-align: right;\">\n",
              "      <th></th>\n",
              "      <th>month_0</th>\n",
              "      <th>month_1</th>\n",
              "      <th>month_2</th>\n",
              "      <th>month_3</th>\n",
              "      <th>y(t-12)</th>\n",
              "      <th>y(t-11)</th>\n",
              "      <th>y(t-10)</th>\n",
              "      <th>y(t-9)</th>\n",
              "      <th>y(t-8)</th>\n",
              "      <th>y(t-7)</th>\n",
              "      <th>y(t-6)</th>\n",
              "      <th>y(t-5)</th>\n",
              "      <th>y(t-4)</th>\n",
              "      <th>y(t-3)</th>\n",
              "      <th>y(t-2)</th>\n",
              "      <th>y(t-1)</th>\n",
              "      <th>y(t)</th>\n",
              "      <th>y(t+1)</th>\n",
              "    </tr>\n",
              "  </thead>\n",
              "  <tbody>\n",
              "    <tr>\n",
              "      <th>0</th>\n",
              "      <td>0.0</td>\n",
              "      <td>0.0</td>\n",
              "      <td>0.0</td>\n",
              "      <td>1.0</td>\n",
              "      <td>0.597690</td>\n",
              "      <td>0.552609</td>\n",
              "      <td>0.681684</td>\n",
              "      <td>0.596855</td>\n",
              "      <td>0.458879</td>\n",
              "      <td>0.176922</td>\n",
              "      <td>0.108941</td>\n",
              "      <td>0.077823</td>\n",
              "      <td>0.122248</td>\n",
              "      <td>0.089916</td>\n",
              "      <td>0.331184</td>\n",
              "      <td>0.200446</td>\n",
              "      <td>0.365814</td>\n",
              "      <td>0.675982</td>\n",
              "    </tr>\n",
              "    <tr>\n",
              "      <th>1</th>\n",
              "      <td>0.0</td>\n",
              "      <td>0.0</td>\n",
              "      <td>1.0</td>\n",
              "      <td>0.0</td>\n",
              "      <td>0.552609</td>\n",
              "      <td>0.681684</td>\n",
              "      <td>0.596855</td>\n",
              "      <td>0.458879</td>\n",
              "      <td>0.176922</td>\n",
              "      <td>0.108941</td>\n",
              "      <td>0.077823</td>\n",
              "      <td>0.122248</td>\n",
              "      <td>0.089916</td>\n",
              "      <td>0.331184</td>\n",
              "      <td>0.200446</td>\n",
              "      <td>0.365814</td>\n",
              "      <td>0.675982</td>\n",
              "      <td>0.847378</td>\n",
              "    </tr>\n",
              "    <tr>\n",
              "      <th>2</th>\n",
              "      <td>0.0</td>\n",
              "      <td>0.0</td>\n",
              "      <td>1.0</td>\n",
              "      <td>1.0</td>\n",
              "      <td>0.681684</td>\n",
              "      <td>0.596855</td>\n",
              "      <td>0.458879</td>\n",
              "      <td>0.176922</td>\n",
              "      <td>0.108941</td>\n",
              "      <td>0.077823</td>\n",
              "      <td>0.122248</td>\n",
              "      <td>0.089916</td>\n",
              "      <td>0.331184</td>\n",
              "      <td>0.200446</td>\n",
              "      <td>0.365814</td>\n",
              "      <td>0.675982</td>\n",
              "      <td>0.847378</td>\n",
              "      <td>0.641972</td>\n",
              "    </tr>\n",
              "    <tr>\n",
              "      <th>3</th>\n",
              "      <td>0.0</td>\n",
              "      <td>1.0</td>\n",
              "      <td>0.0</td>\n",
              "      <td>0.0</td>\n",
              "      <td>0.596855</td>\n",
              "      <td>0.458879</td>\n",
              "      <td>0.176922</td>\n",
              "      <td>0.108941</td>\n",
              "      <td>0.077823</td>\n",
              "      <td>0.122248</td>\n",
              "      <td>0.089916</td>\n",
              "      <td>0.331184</td>\n",
              "      <td>0.200446</td>\n",
              "      <td>0.365814</td>\n",
              "      <td>0.675982</td>\n",
              "      <td>0.847378</td>\n",
              "      <td>0.641972</td>\n",
              "      <td>0.293441</td>\n",
              "    </tr>\n",
              "    <tr>\n",
              "      <th>4</th>\n",
              "      <td>0.0</td>\n",
              "      <td>1.0</td>\n",
              "      <td>0.0</td>\n",
              "      <td>1.0</td>\n",
              "      <td>0.458879</td>\n",
              "      <td>0.176922</td>\n",
              "      <td>0.108941</td>\n",
              "      <td>0.077823</td>\n",
              "      <td>0.122248</td>\n",
              "      <td>0.089916</td>\n",
              "      <td>0.331184</td>\n",
              "      <td>0.200446</td>\n",
              "      <td>0.365814</td>\n",
              "      <td>0.675982</td>\n",
              "      <td>0.847378</td>\n",
              "      <td>0.641972</td>\n",
              "      <td>0.293441</td>\n",
              "      <td>0.241284</td>\n",
              "    </tr>\n",
              "    <tr>\n",
              "      <th>5</th>\n",
              "      <td>0.0</td>\n",
              "      <td>1.0</td>\n",
              "      <td>1.0</td>\n",
              "      <td>0.0</td>\n",
              "      <td>0.176922</td>\n",
              "      <td>0.108941</td>\n",
              "      <td>0.077823</td>\n",
              "      <td>0.122248</td>\n",
              "      <td>0.089916</td>\n",
              "      <td>0.331184</td>\n",
              "      <td>0.200446</td>\n",
              "      <td>0.365814</td>\n",
              "      <td>0.675982</td>\n",
              "      <td>0.847378</td>\n",
              "      <td>0.641972</td>\n",
              "      <td>0.293441</td>\n",
              "      <td>0.241284</td>\n",
              "      <td>0.033235</td>\n",
              "    </tr>\n",
              "    <tr>\n",
              "      <th>6</th>\n",
              "      <td>0.0</td>\n",
              "      <td>1.0</td>\n",
              "      <td>1.0</td>\n",
              "      <td>1.0</td>\n",
              "      <td>0.108941</td>\n",
              "      <td>0.077823</td>\n",
              "      <td>0.122248</td>\n",
              "      <td>0.089916</td>\n",
              "      <td>0.331184</td>\n",
              "      <td>0.200446</td>\n",
              "      <td>0.365814</td>\n",
              "      <td>0.675982</td>\n",
              "      <td>0.847378</td>\n",
              "      <td>0.641972</td>\n",
              "      <td>0.293441</td>\n",
              "      <td>0.241284</td>\n",
              "      <td>0.033235</td>\n",
              "      <td>0.039666</td>\n",
              "    </tr>\n",
              "    <tr>\n",
              "      <th>7</th>\n",
              "      <td>1.0</td>\n",
              "      <td>0.0</td>\n",
              "      <td>0.0</td>\n",
              "      <td>0.0</td>\n",
              "      <td>0.077823</td>\n",
              "      <td>0.122248</td>\n",
              "      <td>0.089916</td>\n",
              "      <td>0.331184</td>\n",
              "      <td>0.200446</td>\n",
              "      <td>0.365814</td>\n",
              "      <td>0.675982</td>\n",
              "      <td>0.847378</td>\n",
              "      <td>0.641972</td>\n",
              "      <td>0.293441</td>\n",
              "      <td>0.241284</td>\n",
              "      <td>0.033235</td>\n",
              "      <td>0.039666</td>\n",
              "      <td>0.113692</td>\n",
              "    </tr>\n",
              "    <tr>\n",
              "      <th>8</th>\n",
              "      <td>1.0</td>\n",
              "      <td>0.0</td>\n",
              "      <td>0.0</td>\n",
              "      <td>1.0</td>\n",
              "      <td>0.122248</td>\n",
              "      <td>0.089916</td>\n",
              "      <td>0.331184</td>\n",
              "      <td>0.200446</td>\n",
              "      <td>0.365814</td>\n",
              "      <td>0.675982</td>\n",
              "      <td>0.847378</td>\n",
              "      <td>0.641972</td>\n",
              "      <td>0.293441</td>\n",
              "      <td>0.241284</td>\n",
              "      <td>0.033235</td>\n",
              "      <td>0.039666</td>\n",
              "      <td>0.113692</td>\n",
              "      <td>0.327107</td>\n",
              "    </tr>\n",
              "    <tr>\n",
              "      <th>9</th>\n",
              "      <td>1.0</td>\n",
              "      <td>0.0</td>\n",
              "      <td>1.0</td>\n",
              "      <td>0.0</td>\n",
              "      <td>0.089916</td>\n",
              "      <td>0.331184</td>\n",
              "      <td>0.200446</td>\n",
              "      <td>0.365814</td>\n",
              "      <td>0.675982</td>\n",
              "      <td>0.847378</td>\n",
              "      <td>0.641972</td>\n",
              "      <td>0.293441</td>\n",
              "      <td>0.241284</td>\n",
              "      <td>0.033235</td>\n",
              "      <td>0.039666</td>\n",
              "      <td>0.113692</td>\n",
              "      <td>0.327107</td>\n",
              "      <td>0.223576</td>\n",
              "    </tr>\n",
              "    <tr>\n",
              "      <th>10</th>\n",
              "      <td>1.0</td>\n",
              "      <td>0.0</td>\n",
              "      <td>1.0</td>\n",
              "      <td>1.0</td>\n",
              "      <td>0.331184</td>\n",
              "      <td>0.200446</td>\n",
              "      <td>0.365814</td>\n",
              "      <td>0.675982</td>\n",
              "      <td>0.847378</td>\n",
              "      <td>0.641972</td>\n",
              "      <td>0.293441</td>\n",
              "      <td>0.241284</td>\n",
              "      <td>0.033235</td>\n",
              "      <td>0.039666</td>\n",
              "      <td>0.113692</td>\n",
              "      <td>0.327107</td>\n",
              "      <td>0.223576</td>\n",
              "      <td>0.831733</td>\n",
              "    </tr>\n",
              "    <tr>\n",
              "      <th>11</th>\n",
              "      <td>1.0</td>\n",
              "      <td>1.0</td>\n",
              "      <td>0.0</td>\n",
              "      <td>0.0</td>\n",
              "      <td>0.200446</td>\n",
              "      <td>0.365814</td>\n",
              "      <td>0.675982</td>\n",
              "      <td>0.847378</td>\n",
              "      <td>0.641972</td>\n",
              "      <td>0.293441</td>\n",
              "      <td>0.241284</td>\n",
              "      <td>0.033235</td>\n",
              "      <td>0.039666</td>\n",
              "      <td>0.113692</td>\n",
              "      <td>0.327107</td>\n",
              "      <td>0.223576</td>\n",
              "      <td>0.831733</td>\n",
              "      <td>0.656761</td>\n",
              "    </tr>\n",
              "  </tbody>\n",
              "</table>\n",
              "</div>"
            ],
            "text/plain": [
              "    month_0  month_1  month_2  month_3   y(t-12)   y(t-11)   y(t-10)  \\\n",
              "0       0.0      0.0      0.0      1.0  0.597690  0.552609  0.681684   \n",
              "1       0.0      0.0      1.0      0.0  0.552609  0.681684  0.596855   \n",
              "2       0.0      0.0      1.0      1.0  0.681684  0.596855  0.458879   \n",
              "3       0.0      1.0      0.0      0.0  0.596855  0.458879  0.176922   \n",
              "4       0.0      1.0      0.0      1.0  0.458879  0.176922  0.108941   \n",
              "5       0.0      1.0      1.0      0.0  0.176922  0.108941  0.077823   \n",
              "6       0.0      1.0      1.0      1.0  0.108941  0.077823  0.122248   \n",
              "7       1.0      0.0      0.0      0.0  0.077823  0.122248  0.089916   \n",
              "8       1.0      0.0      0.0      1.0  0.122248  0.089916  0.331184   \n",
              "9       1.0      0.0      1.0      0.0  0.089916  0.331184  0.200446   \n",
              "10      1.0      0.0      1.0      1.0  0.331184  0.200446  0.365814   \n",
              "11      1.0      1.0      0.0      0.0  0.200446  0.365814  0.675982   \n",
              "\n",
              "      y(t-9)    y(t-8)    y(t-7)    y(t-6)    y(t-5)    y(t-4)    y(t-3)  \\\n",
              "0   0.596855  0.458879  0.176922  0.108941  0.077823  0.122248  0.089916   \n",
              "1   0.458879  0.176922  0.108941  0.077823  0.122248  0.089916  0.331184   \n",
              "2   0.176922  0.108941  0.077823  0.122248  0.089916  0.331184  0.200446   \n",
              "3   0.108941  0.077823  0.122248  0.089916  0.331184  0.200446  0.365814   \n",
              "4   0.077823  0.122248  0.089916  0.331184  0.200446  0.365814  0.675982   \n",
              "5   0.122248  0.089916  0.331184  0.200446  0.365814  0.675982  0.847378   \n",
              "6   0.089916  0.331184  0.200446  0.365814  0.675982  0.847378  0.641972   \n",
              "7   0.331184  0.200446  0.365814  0.675982  0.847378  0.641972  0.293441   \n",
              "8   0.200446  0.365814  0.675982  0.847378  0.641972  0.293441  0.241284   \n",
              "9   0.365814  0.675982  0.847378  0.641972  0.293441  0.241284  0.033235   \n",
              "10  0.675982  0.847378  0.641972  0.293441  0.241284  0.033235  0.039666   \n",
              "11  0.847378  0.641972  0.293441  0.241284  0.033235  0.039666  0.113692   \n",
              "\n",
              "      y(t-2)    y(t-1)      y(t)    y(t+1)  \n",
              "0   0.331184  0.200446  0.365814  0.675982  \n",
              "1   0.200446  0.365814  0.675982  0.847378  \n",
              "2   0.365814  0.675982  0.847378  0.641972  \n",
              "3   0.675982  0.847378  0.641972  0.293441  \n",
              "4   0.847378  0.641972  0.293441  0.241284  \n",
              "5   0.641972  0.293441  0.241284  0.033235  \n",
              "6   0.293441  0.241284  0.033235  0.039666  \n",
              "7   0.241284  0.033235  0.039666  0.113692  \n",
              "8   0.033235  0.039666  0.113692  0.327107  \n",
              "9   0.039666  0.113692  0.327107  0.223576  \n",
              "10  0.113692  0.327107  0.223576  0.831733  \n",
              "11  0.327107  0.223576  0.831733  0.656761  "
            ]
          },
          "execution_count": 35,
          "metadata": {},
          "output_type": "execute_result"
        }
      ],
      "source": [
        "test_val"
      ]
    },
    {
      "cell_type": "code",
      "execution_count": 36,
      "metadata": {
        "id": "gQsASJIfbqvz"
      },
      "outputs": [
        {
          "data": {
            "text/plain": [
              "(119, 17)"
            ]
          },
          "execution_count": 36,
          "metadata": {},
          "output_type": "execute_result"
        }
      ],
      "source": [
        "train_values = train_val.values\n",
        "\n",
        "X_train = train_values[:,:-1]\n",
        "y_train = train_values[:,-1]\n",
        "\n",
        "test_values = test_val.values\n",
        "\n",
        "X_test = test_values[:,:-1]\n",
        "y_test = test_values[:,-1]\n",
        "\n",
        "X_train.shape"
      ]
    },
    {
      "cell_type": "code",
      "execution_count": 37,
      "metadata": {
        "id": "0_PHvaeoLTmk"
      },
      "outputs": [],
      "source": [
        "train_dataset = CustomDataset(torch.from_numpy(X_train).float(), torch.from_numpy(y_train).float().unsqueeze(1))\n",
        "test_dataset = CustomDataset(torch.from_numpy(X_test).float(), torch.from_numpy(y_test).float().unsqueeze(1))"
      ]
    },
    {
      "cell_type": "code",
      "execution_count": 38,
      "metadata": {
        "id": "-zqOrtEZLTg1"
      },
      "outputs": [],
      "source": [
        "batch_size = 32\n",
        "\n",
        "train_loader = DataLoader(dataset=train_dataset,batch_size=batch_size)\n",
        "test_loader = DataLoader(dataset=test_dataset, batch_size=1)"
      ]
    },
    {
      "cell_type": "code",
      "execution_count": 39,
      "metadata": {
        "id": "znvwxbUdcNze"
      },
      "outputs": [],
      "source": [
        "n_input = X_train.shape[1]\n",
        "n_output = 1\n",
        "hidden_neurons = 20"
      ]
    },
    {
      "cell_type": "code",
      "execution_count": 40,
      "metadata": {
        "id": "Y5Vg2c4KG0gO"
      },
      "outputs": [],
      "source": [
        "def train(model, train_loader, epochs, device, lr, skip=1000):\n",
        "\n",
        "  criterion = nn.MSELoss()\n",
        "  optimizer = torch.optim.SGD(model.parameters(), lr=lr)\n",
        "\n",
        "  history = {'loss_train': []}\n",
        "\n",
        "  for e in tqdm(range(1, epochs+1)):\n",
        "    \n",
        "    y_hat = np.array([])\n",
        "\n",
        "    train_epoch_loss = 0\n",
        "    train_epoch_acc = 0\n",
        "    model.train()\n",
        "    for X_train_batch, y_train_batch in train_loader:\n",
        "        X, y = X_train_batch.to(device), y_train_batch.to(device)\n",
        "        optimizer.zero_grad()\n",
        "        \n",
        "        y_pred = model(X)\n",
        "        \n",
        "        loss = criterion(y_pred, y)\n",
        "        \n",
        "        loss.backward()\n",
        "        optimizer.step()\n",
        "        \n",
        "        train_epoch_loss += loss.item()\n",
        "        \n",
        "        y_p = torch.argmax(y_pred, dim=1)\n",
        "        y_hat = np.concatenate((y_hat, y_p))\n",
        "    \n",
        "    #_, val_loss, val_acc = evaluate(model, val_loader, criterion, device, binary=binary)\n",
        "\n",
        "    history['loss_train'].append(train_epoch_loss)\n",
        "    \n",
        "    if e % skip == 0:\n",
        "      print(f'Epoch {e+0:03} | Train Loss: {train_epoch_loss/len(train_loader):.3f}')\n",
        "    #print(f'Epoch {e+0:03}: | Train Loss: {train_epoch_loss/len(train_loader):.3f} | Val Loss: {val_loss/len(val_loader):.4f} | Train Acc: {train_epoch_acc/len(train_loader):.4f}| Val Acc: {val_acc/len(val_loader):.4f}')\n",
        "  return history, y_hat\n"
      ]
    },
    {
      "cell_type": "code",
      "execution_count": 41,
      "metadata": {
        "colab": {
          "base_uri": "https://localhost:8080/",
          "height": 1000,
          "referenced_widgets": [
            "205c95d2c4514daf9bb625dbd8d8b90d",
            "5885dd2f223d496e922f2307456c3089",
            "7442bffb6eb84fc3abbf0a068c27bf7f",
            "29c00442e8fc442f942ba4d47ef88bb4",
            "ebe7941aa6e541029bf9fd2b656ef2e6",
            "2b993121246043db8d11f037eb005d6a",
            "f5b4195c7dfd4a16ac3d5f333a8dd561",
            "213aeafef243450c91e846f60daec0e2",
            "7ef292e1bed745e0a786035a63a736d0",
            "2249c9f23e5b4cbfb978f1f42c169a2d",
            "ae2a33d32d8a4dc3ba33fa28ad63b508"
          ]
        },
        "id": "Ju6gL6bVKJtL",
        "outputId": "c915efc1-ecb8-4a6b-8550-92e649f3064b"
      },
      "outputs": [
        {
          "data": {
            "application/vnd.jupyter.widget-view+json": {
              "model_id": "700575da1c364ed6a1dca07e497c9617",
              "version_major": 2,
              "version_minor": 0
            },
            "text/plain": [
              "  0%|          | 0/1000 [00:00<?, ?it/s]"
            ]
          },
          "metadata": {},
          "output_type": "display_data"
        },
        {
          "name": "stdout",
          "output_type": "stream",
          "text": [
            "Epoch 1000 | Train Loss: 0.009\n"
          ]
        }
      ],
      "source": [
        "model = NeuralNetwork(n_input = n_input, n_output=n_output, hidden_neurons = hidden_neurons, hidden_activation='sigmoid')\n",
        "device = torch.device('cuda' if torch.cuda.is_available() else 'cpu')\n",
        "\n",
        "lr = 0.05\n",
        "epochs = 1000\n",
        "\n",
        "history, y_hat = train(model, train_loader, epochs, device, lr)"
      ]
    },
    {
      "cell_type": "code",
      "execution_count": 42,
      "metadata": {
        "id": "2X7TyC8EL033"
      },
      "outputs": [],
      "source": [
        "y_pred = model(torch.from_numpy(X_test).float())\n",
        "y_hat = y_pred.detach().numpy()"
      ]
    },
    {
      "cell_type": "code",
      "execution_count": 43,
      "metadata": {
        "colab": {
          "base_uri": "https://localhost:8080/",
          "height": 302
        },
        "id": "_NciXnnNcNuF",
        "outputId": "d427bd87-b767-4954-deab-8198a5d4c522"
      },
      "outputs": [
        {
          "name": "stdout",
          "output_type": "stream",
          "text": [
            "Erro MSE = 7.03 \n",
            "Erro MAE = 1.926\n",
            "R² = 0.629\n"
          ]
        },
        {
          "data": {
            "image/png": "[encoded data removed]",
            "text/plain": [
              "<Figure size 432x288 with 1 Axes>"
            ]
          },
          "metadata": {
            "needs_background": "light"
          },
          "output_type": "display_data"
        }
      ],
      "source": [
        "# desnormalizando as previsões:\n",
        "orig_y_eval = y_test*(_max-_min) + _min\n",
        "orig_y_hat = y_hat*(_max-_min) + _min\n",
        "\n",
        "# métricas de erro\n",
        "mae_error = mean_absolute_error(orig_y_eval, orig_y_hat)\n",
        "mse_error = mean_squared_error(orig_y_eval, orig_y_hat)\n",
        "r2 = r2_score(orig_y_eval, orig_y_hat)\n",
        "\n",
        "plt.plot(orig_y_eval, marker='o')\n",
        "plt.plot(orig_y_hat, marker='o')\n",
        "plt.legend(['Original','Predicted'])\n",
        "\n",
        "print(f'Erro MSE = {round(mse_error,3)} \\nErro MAE = {round(mae_error,3)}\\nR² = {round(r2,3)}')\n"
      ]
    },
    {
      "cell_type": "markdown",
      "metadata": {},
      "source": [
        "Importante: Todos os valores previstos pela rede treinada para o conjunto de teste possuem como variáveis de entrada os valores reais da série, portanto é, para os 12 exemplos do conjunto de teste, uma previsão <b>one step</b>, já que não utilizam como valores de entrada os valores previstos pelo modelo mas sim os valores reais da série."
      ]
    },
    {
      "cell_type": "markdown",
      "metadata": {
        "id": "jhTKjzt1UQ_l"
      },
      "source": [
        "#### 2.\tModifique a técnica de codificação mensal de ‘binário’ para ‘numérico’. Qual a mudança existente na arquitetura da Rede Neural? Analise o resultado (conjunto de treinamento e teste), usando as métricas adequadas."
      ]
    },
    {
      "cell_type": "code",
      "execution_count": 44,
      "metadata": {
        "id": "peNfXlv1Rbl0"
      },
      "outputs": [],
      "source": [
        "prev = 12\n",
        "train_val, test_val = transform_data(raw_data, lag=12, test_split = prev, normalize=True, category='')"
      ]
    },
    {
      "cell_type": "code",
      "execution_count": 45,
      "metadata": {},
      "outputs": [
        {
          "data": {
            "text/html": [
              "<div>\n",
              "<style scoped>\n",
              "    .dataframe tbody tr th:only-of-type {\n",
              "        vertical-align: middle;\n",
              "    }\n",
              "\n",
              "    .dataframe tbody tr th {\n",
              "        vertical-align: top;\n",
              "    }\n",
              "\n",
              "    .dataframe thead th {\n",
              "        text-align: right;\n",
              "    }\n",
              "</style>\n",
              "<table border=\"1\" class=\"dataframe\">\n",
              "  <thead>\n",
              "    <tr style=\"text-align: right;\">\n",
              "      <th></th>\n",
              "      <th>month</th>\n",
              "      <th>y(t-12)</th>\n",
              "      <th>y(t-11)</th>\n",
              "      <th>y(t-10)</th>\n",
              "      <th>y(t-9)</th>\n",
              "      <th>y(t-8)</th>\n",
              "      <th>y(t-7)</th>\n",
              "      <th>y(t-6)</th>\n",
              "      <th>y(t-5)</th>\n",
              "      <th>y(t-4)</th>\n",
              "      <th>y(t-3)</th>\n",
              "      <th>y(t-2)</th>\n",
              "      <th>y(t-1)</th>\n",
              "      <th>y(t)</th>\n",
              "      <th>y(t+1)</th>\n",
              "    </tr>\n",
              "  </thead>\n",
              "  <tbody>\n",
              "    <tr>\n",
              "      <th>0</th>\n",
              "      <td>0.090909</td>\n",
              "      <td>0.971445</td>\n",
              "      <td>1.000000</td>\n",
              "      <td>0.831055</td>\n",
              "      <td>0.563954</td>\n",
              "      <td>0.161359</td>\n",
              "      <td>0.079277</td>\n",
              "      <td>0.084723</td>\n",
              "      <td>0.239008</td>\n",
              "      <td>0.262755</td>\n",
              "      <td>0.222611</td>\n",
              "      <td>0.258260</td>\n",
              "      <td>0.735149</td>\n",
              "      <td>0.880795</td>\n",
              "      <td>0.886457</td>\n",
              "    </tr>\n",
              "    <tr>\n",
              "      <th>1</th>\n",
              "      <td>0.181818</td>\n",
              "      <td>1.000000</td>\n",
              "      <td>0.831055</td>\n",
              "      <td>0.563954</td>\n",
              "      <td>0.161359</td>\n",
              "      <td>0.079277</td>\n",
              "      <td>0.084723</td>\n",
              "      <td>0.239008</td>\n",
              "      <td>0.262755</td>\n",
              "      <td>0.222611</td>\n",
              "      <td>0.258260</td>\n",
              "      <td>0.735149</td>\n",
              "      <td>0.880795</td>\n",
              "      <td>0.886457</td>\n",
              "      <td>0.642639</td>\n",
              "    </tr>\n",
              "    <tr>\n",
              "      <th>2</th>\n",
              "      <td>0.272727</td>\n",
              "      <td>0.831055</td>\n",
              "      <td>0.563954</td>\n",
              "      <td>0.161359</td>\n",
              "      <td>0.079277</td>\n",
              "      <td>0.084723</td>\n",
              "      <td>0.239008</td>\n",
              "      <td>0.262755</td>\n",
              "      <td>0.222611</td>\n",
              "      <td>0.258260</td>\n",
              "      <td>0.735149</td>\n",
              "      <td>0.880795</td>\n",
              "      <td>0.886457</td>\n",
              "      <td>0.642639</td>\n",
              "      <td>0.337537</td>\n",
              "    </tr>\n",
              "    <tr>\n",
              "      <th>3</th>\n",
              "      <td>0.363636</td>\n",
              "      <td>0.563954</td>\n",
              "      <td>0.161359</td>\n",
              "      <td>0.079277</td>\n",
              "      <td>0.084723</td>\n",
              "      <td>0.239008</td>\n",
              "      <td>0.262755</td>\n",
              "      <td>0.222611</td>\n",
              "      <td>0.258260</td>\n",
              "      <td>0.735149</td>\n",
              "      <td>0.880795</td>\n",
              "      <td>0.886457</td>\n",
              "      <td>0.642639</td>\n",
              "      <td>0.337537</td>\n",
              "      <td>0.136262</td>\n",
              "    </tr>\n",
              "    <tr>\n",
              "      <th>4</th>\n",
              "      <td>0.454545</td>\n",
              "      <td>0.161359</td>\n",
              "      <td>0.079277</td>\n",
              "      <td>0.084723</td>\n",
              "      <td>0.239008</td>\n",
              "      <td>0.262755</td>\n",
              "      <td>0.222611</td>\n",
              "      <td>0.258260</td>\n",
              "      <td>0.735149</td>\n",
              "      <td>0.880795</td>\n",
              "      <td>0.886457</td>\n",
              "      <td>0.642639</td>\n",
              "      <td>0.337537</td>\n",
              "      <td>0.136262</td>\n",
              "      <td>0.000000</td>\n",
              "    </tr>\n",
              "    <tr>\n",
              "      <th>...</th>\n",
              "      <td>...</td>\n",
              "      <td>...</td>\n",
              "      <td>...</td>\n",
              "      <td>...</td>\n",
              "      <td>...</td>\n",
              "      <td>...</td>\n",
              "      <td>...</td>\n",
              "      <td>...</td>\n",
              "      <td>...</td>\n",
              "      <td>...</td>\n",
              "      <td>...</td>\n",
              "      <td>...</td>\n",
              "      <td>...</td>\n",
              "      <td>...</td>\n",
              "      <td>...</td>\n",
              "    </tr>\n",
              "    <tr>\n",
              "      <th>114</th>\n",
              "      <td>0.636364</td>\n",
              "      <td>0.149252</td>\n",
              "      <td>0.169844</td>\n",
              "      <td>0.286705</td>\n",
              "      <td>0.403197</td>\n",
              "      <td>0.415928</td>\n",
              "      <td>0.597690</td>\n",
              "      <td>0.552609</td>\n",
              "      <td>0.681684</td>\n",
              "      <td>0.596855</td>\n",
              "      <td>0.458879</td>\n",
              "      <td>0.176922</td>\n",
              "      <td>0.108941</td>\n",
              "      <td>0.077823</td>\n",
              "      <td>0.122248</td>\n",
              "    </tr>\n",
              "    <tr>\n",
              "      <th>115</th>\n",
              "      <td>0.727273</td>\n",
              "      <td>0.169844</td>\n",
              "      <td>0.286705</td>\n",
              "      <td>0.403197</td>\n",
              "      <td>0.415928</td>\n",
              "      <td>0.597690</td>\n",
              "      <td>0.552609</td>\n",
              "      <td>0.681684</td>\n",
              "      <td>0.596855</td>\n",
              "      <td>0.458879</td>\n",
              "      <td>0.176922</td>\n",
              "      <td>0.108941</td>\n",
              "      <td>0.077823</td>\n",
              "      <td>0.122248</td>\n",
              "      <td>0.089916</td>\n",
              "    </tr>\n",
              "    <tr>\n",
              "      <th>116</th>\n",
              "      <td>0.818182</td>\n",
              "      <td>0.286705</td>\n",
              "      <td>0.403197</td>\n",
              "      <td>0.415928</td>\n",
              "      <td>0.597690</td>\n",
              "      <td>0.552609</td>\n",
              "      <td>0.681684</td>\n",
              "      <td>0.596855</td>\n",
              "      <td>0.458879</td>\n",
              "      <td>0.176922</td>\n",
              "      <td>0.108941</td>\n",
              "      <td>0.077823</td>\n",
              "      <td>0.122248</td>\n",
              "      <td>0.089916</td>\n",
              "      <td>0.331184</td>\n",
              "    </tr>\n",
              "    <tr>\n",
              "      <th>117</th>\n",
              "      <td>0.909091</td>\n",
              "      <td>0.403197</td>\n",
              "      <td>0.415928</td>\n",
              "      <td>0.597690</td>\n",
              "      <td>0.552609</td>\n",
              "      <td>0.681684</td>\n",
              "      <td>0.596855</td>\n",
              "      <td>0.458879</td>\n",
              "      <td>0.176922</td>\n",
              "      <td>0.108941</td>\n",
              "      <td>0.077823</td>\n",
              "      <td>0.122248</td>\n",
              "      <td>0.089916</td>\n",
              "      <td>0.331184</td>\n",
              "      <td>0.200446</td>\n",
              "    </tr>\n",
              "    <tr>\n",
              "      <th>118</th>\n",
              "      <td>1.000000</td>\n",
              "      <td>0.415928</td>\n",
              "      <td>0.597690</td>\n",
              "      <td>0.552609</td>\n",
              "      <td>0.681684</td>\n",
              "      <td>0.596855</td>\n",
              "      <td>0.458879</td>\n",
              "      <td>0.176922</td>\n",
              "      <td>0.108941</td>\n",
              "      <td>0.077823</td>\n",
              "      <td>0.122248</td>\n",
              "      <td>0.089916</td>\n",
              "      <td>0.331184</td>\n",
              "      <td>0.200446</td>\n",
              "      <td>0.365814</td>\n",
              "    </tr>\n",
              "  </tbody>\n",
              "</table>\n",
              "<p>119 rows × 15 columns</p>\n",
              "</div>"
            ],
            "text/plain": [
              "        month   y(t-12)   y(t-11)   y(t-10)    y(t-9)    y(t-8)    y(t-7)  \\\n",
              "0    0.090909  0.971445  1.000000  0.831055  0.563954  0.161359  0.079277   \n",
              "1    0.181818  1.000000  0.831055  0.563954  0.161359  0.079277  0.084723   \n",
              "2    0.272727  0.831055  0.563954  0.161359  0.079277  0.084723  0.239008   \n",
              "3    0.363636  0.563954  0.161359  0.079277  0.084723  0.239008  0.262755   \n",
              "4    0.454545  0.161359  0.079277  0.084723  0.239008  0.262755  0.222611   \n",
              "..        ...       ...       ...       ...       ...       ...       ...   \n",
              "114  0.636364  0.149252  0.169844  0.286705  0.403197  0.415928  0.597690   \n",
              "115  0.727273  0.169844  0.286705  0.403197  0.415928  0.597690  0.552609   \n",
              "116  0.818182  0.286705  0.403197  0.415928  0.597690  0.552609  0.681684   \n",
              "117  0.909091  0.403197  0.415928  0.597690  0.552609  0.681684  0.596855   \n",
              "118  1.000000  0.415928  0.597690  0.552609  0.681684  0.596855  0.458879   \n",
              "\n",
              "       y(t-6)    y(t-5)    y(t-4)    y(t-3)    y(t-2)    y(t-1)      y(t)  \\\n",
              "0    0.084723  0.239008  0.262755  0.222611  0.258260  0.735149  0.880795   \n",
              "1    0.239008  0.262755  0.222611  0.258260  0.735149  0.880795  0.886457   \n",
              "2    0.262755  0.222611  0.258260  0.735149  0.880795  0.886457  0.642639   \n",
              "3    0.222611  0.258260  0.735149  0.880795  0.886457  0.642639  0.337537   \n",
              "4    0.258260  0.735149  0.880795  0.886457  0.642639  0.337537  0.136262   \n",
              "..        ...       ...       ...       ...       ...       ...       ...   \n",
              "114  0.552609  0.681684  0.596855  0.458879  0.176922  0.108941  0.077823   \n",
              "115  0.681684  0.596855  0.458879  0.176922  0.108941  0.077823  0.122248   \n",
              "116  0.596855  0.458879  0.176922  0.108941  0.077823  0.122248  0.089916   \n",
              "117  0.458879  0.176922  0.108941  0.077823  0.122248  0.089916  0.331184   \n",
              "118  0.176922  0.108941  0.077823  0.122248  0.089916  0.331184  0.200446   \n",
              "\n",
              "       y(t+1)  \n",
              "0    0.886457  \n",
              "1    0.642639  \n",
              "2    0.337537  \n",
              "3    0.136262  \n",
              "4    0.000000  \n",
              "..        ...  \n",
              "114  0.122248  \n",
              "115  0.089916  \n",
              "116  0.331184  \n",
              "117  0.200446  \n",
              "118  0.365814  \n",
              "\n",
              "[119 rows x 15 columns]"
            ]
          },
          "execution_count": 45,
          "metadata": {},
          "output_type": "execute_result"
        }
      ],
      "source": [
        "train_val"
      ]
    },
    {
      "cell_type": "code",
      "execution_count": 46,
      "metadata": {},
      "outputs": [
        {
          "data": {
            "text/html": [
              "<div>\n",
              "<style scoped>\n",
              "    .dataframe tbody tr th:only-of-type {\n",
              "        vertical-align: middle;\n",
              "    }\n",
              "\n",
              "    .dataframe tbody tr th {\n",
              "        vertical-align: top;\n",
              "    }\n",
              "\n",
              "    .dataframe thead th {\n",
              "        text-align: right;\n",
              "    }\n",
              "</style>\n",
              "<table border=\"1\" class=\"dataframe\">\n",
              "  <thead>\n",
              "    <tr style=\"text-align: right;\">\n",
              "      <th></th>\n",
              "      <th>month</th>\n",
              "      <th>y(t-12)</th>\n",
              "      <th>y(t-11)</th>\n",
              "      <th>y(t-10)</th>\n",
              "      <th>y(t-9)</th>\n",
              "      <th>y(t-8)</th>\n",
              "      <th>y(t-7)</th>\n",
              "      <th>y(t-6)</th>\n",
              "      <th>y(t-5)</th>\n",
              "      <th>y(t-4)</th>\n",
              "      <th>y(t-3)</th>\n",
              "      <th>y(t-2)</th>\n",
              "      <th>y(t-1)</th>\n",
              "      <th>y(t)</th>\n",
              "      <th>y(t+1)</th>\n",
              "    </tr>\n",
              "  </thead>\n",
              "  <tbody>\n",
              "    <tr>\n",
              "      <th>0</th>\n",
              "      <td>0.000000</td>\n",
              "      <td>0.597690</td>\n",
              "      <td>0.552609</td>\n",
              "      <td>0.681684</td>\n",
              "      <td>0.596855</td>\n",
              "      <td>0.458879</td>\n",
              "      <td>0.176922</td>\n",
              "      <td>0.108941</td>\n",
              "      <td>0.077823</td>\n",
              "      <td>0.122248</td>\n",
              "      <td>0.089916</td>\n",
              "      <td>0.331184</td>\n",
              "      <td>0.200446</td>\n",
              "      <td>0.365814</td>\n",
              "      <td>0.675982</td>\n",
              "    </tr>\n",
              "    <tr>\n",
              "      <th>1</th>\n",
              "      <td>0.090909</td>\n",
              "      <td>0.552609</td>\n",
              "      <td>0.681684</td>\n",
              "      <td>0.596855</td>\n",
              "      <td>0.458879</td>\n",
              "      <td>0.176922</td>\n",
              "      <td>0.108941</td>\n",
              "      <td>0.077823</td>\n",
              "      <td>0.122248</td>\n",
              "      <td>0.089916</td>\n",
              "      <td>0.331184</td>\n",
              "      <td>0.200446</td>\n",
              "      <td>0.365814</td>\n",
              "      <td>0.675982</td>\n",
              "      <td>0.847378</td>\n",
              "    </tr>\n",
              "    <tr>\n",
              "      <th>2</th>\n",
              "      <td>0.181818</td>\n",
              "      <td>0.681684</td>\n",
              "      <td>0.596855</td>\n",
              "      <td>0.458879</td>\n",
              "      <td>0.176922</td>\n",
              "      <td>0.108941</td>\n",
              "      <td>0.077823</td>\n",
              "      <td>0.122248</td>\n",
              "      <td>0.089916</td>\n",
              "      <td>0.331184</td>\n",
              "      <td>0.200446</td>\n",
              "      <td>0.365814</td>\n",
              "      <td>0.675982</td>\n",
              "      <td>0.847378</td>\n",
              "      <td>0.641972</td>\n",
              "    </tr>\n",
              "    <tr>\n",
              "      <th>3</th>\n",
              "      <td>0.272727</td>\n",
              "      <td>0.596855</td>\n",
              "      <td>0.458879</td>\n",
              "      <td>0.176922</td>\n",
              "      <td>0.108941</td>\n",
              "      <td>0.077823</td>\n",
              "      <td>0.122248</td>\n",
              "      <td>0.089916</td>\n",
              "      <td>0.331184</td>\n",
              "      <td>0.200446</td>\n",
              "      <td>0.365814</td>\n",
              "      <td>0.675982</td>\n",
              "      <td>0.847378</td>\n",
              "      <td>0.641972</td>\n",
              "      <td>0.293441</td>\n",
              "    </tr>\n",
              "    <tr>\n",
              "      <th>4</th>\n",
              "      <td>0.363636</td>\n",
              "      <td>0.458879</td>\n",
              "      <td>0.176922</td>\n",
              "      <td>0.108941</td>\n",
              "      <td>0.077823</td>\n",
              "      <td>0.122248</td>\n",
              "      <td>0.089916</td>\n",
              "      <td>0.331184</td>\n",
              "      <td>0.200446</td>\n",
              "      <td>0.365814</td>\n",
              "      <td>0.675982</td>\n",
              "      <td>0.847378</td>\n",
              "      <td>0.641972</td>\n",
              "      <td>0.293441</td>\n",
              "      <td>0.241284</td>\n",
              "    </tr>\n",
              "    <tr>\n",
              "      <th>5</th>\n",
              "      <td>0.454545</td>\n",
              "      <td>0.176922</td>\n",
              "      <td>0.108941</td>\n",
              "      <td>0.077823</td>\n",
              "      <td>0.122248</td>\n",
              "      <td>0.089916</td>\n",
              "      <td>0.331184</td>\n",
              "      <td>0.200446</td>\n",
              "      <td>0.365814</td>\n",
              "      <td>0.675982</td>\n",
              "      <td>0.847378</td>\n",
              "      <td>0.641972</td>\n",
              "      <td>0.293441</td>\n",
              "      <td>0.241284</td>\n",
              "      <td>0.033235</td>\n",
              "    </tr>\n",
              "    <tr>\n",
              "      <th>6</th>\n",
              "      <td>0.545455</td>\n",
              "      <td>0.108941</td>\n",
              "      <td>0.077823</td>\n",
              "      <td>0.122248</td>\n",
              "      <td>0.089916</td>\n",
              "      <td>0.331184</td>\n",
              "      <td>0.200446</td>\n",
              "      <td>0.365814</td>\n",
              "      <td>0.675982</td>\n",
              "      <td>0.847378</td>\n",
              "      <td>0.641972</td>\n",
              "      <td>0.293441</td>\n",
              "      <td>0.241284</td>\n",
              "      <td>0.033235</td>\n",
              "      <td>0.039666</td>\n",
              "    </tr>\n",
              "    <tr>\n",
              "      <th>7</th>\n",
              "      <td>0.636364</td>\n",
              "      <td>0.077823</td>\n",
              "      <td>0.122248</td>\n",
              "      <td>0.089916</td>\n",
              "      <td>0.331184</td>\n",
              "      <td>0.200446</td>\n",
              "      <td>0.365814</td>\n",
              "      <td>0.675982</td>\n",
              "      <td>0.847378</td>\n",
              "      <td>0.641972</td>\n",
              "      <td>0.293441</td>\n",
              "      <td>0.241284</td>\n",
              "      <td>0.033235</td>\n",
              "      <td>0.039666</td>\n",
              "      <td>0.113692</td>\n",
              "    </tr>\n",
              "    <tr>\n",
              "      <th>8</th>\n",
              "      <td>0.727273</td>\n",
              "      <td>0.122248</td>\n",
              "      <td>0.089916</td>\n",
              "      <td>0.331184</td>\n",
              "      <td>0.200446</td>\n",
              "      <td>0.365814</td>\n",
              "      <td>0.675982</td>\n",
              "      <td>0.847378</td>\n",
              "      <td>0.641972</td>\n",
              "      <td>0.293441</td>\n",
              "      <td>0.241284</td>\n",
              "      <td>0.033235</td>\n",
              "      <td>0.039666</td>\n",
              "      <td>0.113692</td>\n",
              "      <td>0.327107</td>\n",
              "    </tr>\n",
              "    <tr>\n",
              "      <th>9</th>\n",
              "      <td>0.818182</td>\n",
              "      <td>0.089916</td>\n",
              "      <td>0.331184</td>\n",
              "      <td>0.200446</td>\n",
              "      <td>0.365814</td>\n",
              "      <td>0.675982</td>\n",
              "      <td>0.847378</td>\n",
              "      <td>0.641972</td>\n",
              "      <td>0.293441</td>\n",
              "      <td>0.241284</td>\n",
              "      <td>0.033235</td>\n",
              "      <td>0.039666</td>\n",
              "      <td>0.113692</td>\n",
              "      <td>0.327107</td>\n",
              "      <td>0.223576</td>\n",
              "    </tr>\n",
              "    <tr>\n",
              "      <th>10</th>\n",
              "      <td>0.909091</td>\n",
              "      <td>0.331184</td>\n",
              "      <td>0.200446</td>\n",
              "      <td>0.365814</td>\n",
              "      <td>0.675982</td>\n",
              "      <td>0.847378</td>\n",
              "      <td>0.641972</td>\n",
              "      <td>0.293441</td>\n",
              "      <td>0.241284</td>\n",
              "      <td>0.033235</td>\n",
              "      <td>0.039666</td>\n",
              "      <td>0.113692</td>\n",
              "      <td>0.327107</td>\n",
              "      <td>0.223576</td>\n",
              "      <td>0.831733</td>\n",
              "    </tr>\n",
              "    <tr>\n",
              "      <th>11</th>\n",
              "      <td>1.000000</td>\n",
              "      <td>0.200446</td>\n",
              "      <td>0.365814</td>\n",
              "      <td>0.675982</td>\n",
              "      <td>0.847378</td>\n",
              "      <td>0.641972</td>\n",
              "      <td>0.293441</td>\n",
              "      <td>0.241284</td>\n",
              "      <td>0.033235</td>\n",
              "      <td>0.039666</td>\n",
              "      <td>0.113692</td>\n",
              "      <td>0.327107</td>\n",
              "      <td>0.223576</td>\n",
              "      <td>0.831733</td>\n",
              "      <td>0.656761</td>\n",
              "    </tr>\n",
              "  </tbody>\n",
              "</table>\n",
              "</div>"
            ],
            "text/plain": [
              "       month   y(t-12)   y(t-11)   y(t-10)    y(t-9)    y(t-8)    y(t-7)  \\\n",
              "0   0.000000  0.597690  0.552609  0.681684  0.596855  0.458879  0.176922   \n",
              "1   0.090909  0.552609  0.681684  0.596855  0.458879  0.176922  0.108941   \n",
              "2   0.181818  0.681684  0.596855  0.458879  0.176922  0.108941  0.077823   \n",
              "3   0.272727  0.596855  0.458879  0.176922  0.108941  0.077823  0.122248   \n",
              "4   0.363636  0.458879  0.176922  0.108941  0.077823  0.122248  0.089916   \n",
              "5   0.454545  0.176922  0.108941  0.077823  0.122248  0.089916  0.331184   \n",
              "6   0.545455  0.108941  0.077823  0.122248  0.089916  0.331184  0.200446   \n",
              "7   0.636364  0.077823  0.122248  0.089916  0.331184  0.200446  0.365814   \n",
              "8   0.727273  0.122248  0.089916  0.331184  0.200446  0.365814  0.675982   \n",
              "9   0.818182  0.089916  0.331184  0.200446  0.365814  0.675982  0.847378   \n",
              "10  0.909091  0.331184  0.200446  0.365814  0.675982  0.847378  0.641972   \n",
              "11  1.000000  0.200446  0.365814  0.675982  0.847378  0.641972  0.293441   \n",
              "\n",
              "      y(t-6)    y(t-5)    y(t-4)    y(t-3)    y(t-2)    y(t-1)      y(t)  \\\n",
              "0   0.108941  0.077823  0.122248  0.089916  0.331184  0.200446  0.365814   \n",
              "1   0.077823  0.122248  0.089916  0.331184  0.200446  0.365814  0.675982   \n",
              "2   0.122248  0.089916  0.331184  0.200446  0.365814  0.675982  0.847378   \n",
              "3   0.089916  0.331184  0.200446  0.365814  0.675982  0.847378  0.641972   \n",
              "4   0.331184  0.200446  0.365814  0.675982  0.847378  0.641972  0.293441   \n",
              "5   0.200446  0.365814  0.675982  0.847378  0.641972  0.293441  0.241284   \n",
              "6   0.365814  0.675982  0.847378  0.641972  0.293441  0.241284  0.033235   \n",
              "7   0.675982  0.847378  0.641972  0.293441  0.241284  0.033235  0.039666   \n",
              "8   0.847378  0.641972  0.293441  0.241284  0.033235  0.039666  0.113692   \n",
              "9   0.641972  0.293441  0.241284  0.033235  0.039666  0.113692  0.327107   \n",
              "10  0.293441  0.241284  0.033235  0.039666  0.113692  0.327107  0.223576   \n",
              "11  0.241284  0.033235  0.039666  0.113692  0.327107  0.223576  0.831733   \n",
              "\n",
              "      y(t+1)  \n",
              "0   0.675982  \n",
              "1   0.847378  \n",
              "2   0.641972  \n",
              "3   0.293441  \n",
              "4   0.241284  \n",
              "5   0.033235  \n",
              "6   0.039666  \n",
              "7   0.113692  \n",
              "8   0.327107  \n",
              "9   0.223576  \n",
              "10  0.831733  \n",
              "11  0.656761  "
            ]
          },
          "execution_count": 46,
          "metadata": {},
          "output_type": "execute_result"
        }
      ],
      "source": [
        "test_val"
      ]
    },
    {
      "cell_type": "markdown",
      "metadata": {},
      "source": [
        "#### Resposta:\n",
        "\n",
        ">Arquitetura da rede com codifcação do mês <b>binária</b>  \n",
        ">\n",
        ">    - 17 Entradas:  \n",
        ">        4 para o mês  \n",
        ">        12 para os valores predecessores  \n",
        ">        1 para o valor atual\n",
        ">\n",
        ">Arquitetura da rede com codifcação do mês <b>numérica</b>\n",
        ">\n",
        ">    - 14 Entradas:  \n",
        ">        1 para o mês  \n",
        ">        12 para os valores predecessores  \n",
        ">        1 para o valor atual  "
      ]
    },
    {
      "cell_type": "code",
      "execution_count": 47,
      "metadata": {},
      "outputs": [
        {
          "data": {
            "text/plain": [
              "(119, 14)"
            ]
          },
          "execution_count": 47,
          "metadata": {},
          "output_type": "execute_result"
        }
      ],
      "source": [
        "train_values = train_val.values\n",
        "\n",
        "X_train2 = train_values[:,:-1]\n",
        "y_train2 = train_values[:,-1]\n",
        "\n",
        "test_values = test_val.values\n",
        "\n",
        "X_test2 = test_values[:,:-1]\n",
        "y_test2 = test_values[:,-1]\n",
        "\n",
        "X_train2.shape"
      ]
    },
    {
      "cell_type": "code",
      "execution_count": 48,
      "metadata": {
        "id": "0_PHvaeoLTmk"
      },
      "outputs": [],
      "source": [
        "train_dataset = CustomDataset(torch.from_numpy(X_train2).float(), torch.from_numpy(y_train2).float().unsqueeze(1))\n",
        "test_dataset = CustomDataset(torch.from_numpy(X_test2).float(), torch.from_numpy(y_test2).float().unsqueeze(1))"
      ]
    },
    {
      "cell_type": "code",
      "execution_count": 49,
      "metadata": {
        "id": "-zqOrtEZLTg1"
      },
      "outputs": [],
      "source": [
        "batch_size = 32\n",
        "\n",
        "train_loader = DataLoader(dataset=train_dataset,batch_size=batch_size)\n",
        "test_loader = DataLoader(dataset=test_dataset, batch_size=1)"
      ]
    },
    {
      "cell_type": "code",
      "execution_count": 50,
      "metadata": {
        "id": "znvwxbUdcNze"
      },
      "outputs": [],
      "source": [
        "n_input = X_train2.shape[1]\n",
        "n_output = 1\n",
        "hidden_neurons = 20"
      ]
    },
    {
      "cell_type": "code",
      "execution_count": 51,
      "metadata": {},
      "outputs": [
        {
          "data": {
            "application/vnd.jupyter.widget-view+json": {
              "model_id": "c3f07a3349774fb2abe5b62fc9d2f2f7",
              "version_major": 2,
              "version_minor": 0
            },
            "text/plain": [
              "  0%|          | 0/1000 [00:00<?, ?it/s]"
            ]
          },
          "metadata": {},
          "output_type": "display_data"
        },
        {
          "name": "stdout",
          "output_type": "stream",
          "text": [
            "Epoch 1000 | Train Loss: 0.009\n"
          ]
        }
      ],
      "source": [
        "model2 = NeuralNetwork(n_input = n_input, n_output=n_output, hidden_neurons = hidden_neurons, hidden_activation='sigmoid')\n",
        "device = torch.device('cuda' if torch.cuda.is_available() else 'cpu')\n",
        "\n",
        "lr = 0.05\n",
        "epochs = 1000\n",
        "\n",
        "history, y_hat2 = train(model2, train_loader, epochs, device, lr)"
      ]
    },
    {
      "cell_type": "code",
      "execution_count": 52,
      "metadata": {},
      "outputs": [],
      "source": [
        "y_pred2 = model2(torch.from_numpy(X_test2).float())\n",
        "y_hat2 = y_pred2.detach().numpy()"
      ]
    },
    {
      "cell_type": "code",
      "execution_count": 53,
      "metadata": {},
      "outputs": [
        {
          "name": "stdout",
          "output_type": "stream",
          "text": [
            "Modelo 1: (mês binário - 17 entradas)\n",
            "\tErro MSE = 7.03 \n",
            "\tErro MAE = 1.926\n",
            "\tR² = 0.629\n",
            "\n",
            "Modelo 2: (mês numérico - 14 entradas)\n",
            "\tErro MSE = 6.825 \n",
            "\tErro MAE = 1.929\n",
            "\tR² = 0.64\n"
          ]
        },
        {
          "data": {
            "image/png": "[encoded data removed]",
            "text/plain": [
              "<Figure size 432x288 with 1 Axes>"
            ]
          },
          "metadata": {
            "needs_background": "light"
          },
          "output_type": "display_data"
        }
      ],
      "source": [
        "# desnormalizando as previsões:\n",
        "orig_y_eval = y_test*(_max-_min) + _min\n",
        "orig_y_hat = y_hat*(_max-_min) + _min\n",
        "\n",
        "orig_y_eval2 = y_test2*(_max-_min) + _min\n",
        "orig_y_hat2 = y_hat2*(_max-_min) + _min\n",
        "\n",
        "# métricas de erro modelo 1\n",
        "mae_error = mean_absolute_error(orig_y_eval, orig_y_hat)\n",
        "mse_error = mean_squared_error(orig_y_eval, orig_y_hat)\n",
        "r2 = r2_score(orig_y_eval, orig_y_hat)\n",
        "\n",
        "# métricas de erro modelo 2\n",
        "mae_error2 = mean_absolute_error(orig_y_eval2, orig_y_hat2)\n",
        "mse_error2 = mean_squared_error(orig_y_eval2, orig_y_hat2)\n",
        "r22 = r2_score(orig_y_eval2, orig_y_hat2)\n",
        "\n",
        "plt.plot(orig_y_eval, marker='o')\n",
        "plt.plot(orig_y_hat, marker='o')\n",
        "plt.plot(orig_y_hat2, marker='o')\n",
        "plt.legend(['Original','Prev(mês=bin)', 'Prev(mês=num)'])\n",
        "\n",
        "print(f'Modelo 1: (mês binário - {X_train.shape[1]} entradas)\\n\\tErro MSE = {round(mse_error,3)} \\n\\tErro MAE = {round(mae_error,3)}\\n\\tR² = {round(r2,3)}\\n')\n",
        "print(f'Modelo 2: (mês numérico - {X_train2.shape[1]} entradas)\\n\\tErro MSE = {round(mse_error2,3)} \\n\\tErro MAE = {round(mae_error2,3)}\\n\\tR² = {round(r22,3)}')"
      ]
    },
    {
      "cell_type": "markdown",
      "metadata": {},
      "source": [
        "#### Observações:\n",
        ">1. A previsão feita pela rede com o mês codificado em numérico ficou com indicadores levemente melhores, mas bem próximos ao modelo com codificação binária do mês.\n",
        ">2. A previsão com mês numérico fica mais suavizada, por ter menos entradas e graus de liberdade (pesos)\n"
      ]
    },
    {
      "cell_type": "markdown",
      "metadata": {
        "id": "Q_bSRsmjRbl2"
      },
      "source": [
        "## Parte 3 - Previsão multi-step"
      ]
    },
    {
      "cell_type": "markdown",
      "metadata": {
        "id": "nVaiSKqLUtCd"
      },
      "source": [
        "#### 1.\tEsquematize como você implementaria o processo de previsão multi-step. Descreva todos os passos necessários, e em seguida compare com o código fornecido para a previsão. "
      ]
    },
    {
      "cell_type": "markdown",
      "metadata": {},
      "source": [
        "> Uma vez a rede treinada, prever valores para um horizonte fora dos valores existentes da série equivale a prever vários valores one-step sucessivamente, onde o valor previsto no step anterior se torna uma entrada do passo seguinte.\n",
        "\n",
        "> Para cada previsão subsequente, utiliza-se o valor previsto pela rede no passo anterior como uma entrada, podemos dizer que a janela temporal das entradas vai se deslocando para a direita e incluindo valores preevisto pela rede e não somente os valores da série, conforme ilusta a tabela abaixo:\n",
        "\n",
        "\n",
        "$$\\begin{bmatrix} \n",
        "X_{1} =\\{ & m    & y-12 & y-11 & ... & y-3 & y-2 & y-1  & y    \\} & | & prev_{1}= & y+1 \\\\ \n",
        "X_{2} =\\{ & m+1  & y-11 & y-10 & ... & y-2 & y-1 & y    & y+1  \\} & | & prev_{2}= & y+2 \\\\ \n",
        "X_{3} =\\{ & m+2  & y-10 & y-9  & ... & y-1 & y   & y+1  & y+2  \\} & | & prev_{3}= & y+3 \\\\ \n",
        "X_{i} =\\{ & ...  & ...  & ...  & ... & ... & ... & ...  & ...  \\} & | & prev_{i}= & ... \\\\ \n",
        "X_{12}=\\{ & m+11 & y-1  & y    & ... & y+8 & y+9 & y+10 & y+11 \\} & | & prev_{12}= & y+12 \\\\                    \n",
        "\\end{bmatrix}$$\n",
        "\n",
        "$$ y_{prev} = \\{y+1, y+2, ..., y+12\\} $$\n",
        "\n",
        "\n",
        "> Etapas:   \n",
        ">\n",
        "> 1. prever y+1 a partir dos n valores anteriores da série e o mês (variável exógena)  \n",
        "> 2. mover a janela de tempo um step a frente nos valores da série, adicionando o valor previsto no passo anterior e incrementando o mês da previsão, prever novo valor.\n",
        "> 3. repetir o passo 2 até que seja atingido o horizonte da previsão"
      ]
    },
    {
      "cell_type": "code",
      "execution_count": 54,
      "metadata": {
        "id": "cD9-D2qDRbl3"
      },
      "outputs": [],
      "source": [
        "def multi_step(model, X_test, cod='numeric'):\n",
        "  y_result = []\n",
        "  X_t = np.copy(X_test[0])\n",
        "  \n",
        "  for i in range(prev):\n",
        "      y_hat = model(torch.from_numpy(X_t).float())\n",
        "      \n",
        "      if cod == 'numeric':\n",
        "\n",
        "        #Ajeitando a codificação. Transformamos para o valor do mês e somamos 1 (para o próximo passo) e \n",
        "        #depois pegamos o resto da divisão por 12 (para que o mês fique sempre entre 0 e 11)\n",
        "        tmp = int(X_t[0] * 12 + 1) % 12\n",
        "        \n",
        "        #Alterando a variável mês\n",
        "        X_t[0] = tmp/12\n",
        "        \n",
        "        #Movendo todos os registros, 'deslizando a janela'\n",
        "        X_t[1:X_t.shape[0]-1] = X_t[2:]\n",
        "\n",
        "      elif cod == 'binary':\n",
        "        pass\n",
        "\n",
        "      else:\n",
        "        print('Erro de codificação.')\n",
        "        break\n",
        "      \n",
        "\n",
        "      X_t[-1] = y_hat\n",
        "      \n",
        "      y_result.append(y_hat[0].detach().numpy())\n",
        "\n",
        "\n",
        "  return np.array(y_result)"
      ]
    },
    {
      "cell_type": "markdown",
      "metadata": {
        "id": "lICkYvstVqm0"
      },
      "source": [
        "#### 2.\tFaça a previsão multi-step para o horizonte de previsão igual a 12. Perceba que o resultado da métrica é, geralmente, pior do que o apresentado para a previsão one-step. Por quê? É justo comparar o resultado deste item com o que foi apresentado anteriormente? Discuta. "
      ]
    },
    {
      "cell_type": "code",
      "execution_count": 55,
      "metadata": {},
      "outputs": [],
      "source": [
        "# prevendo com o modelo treinado com mês numérico (model2)\n",
        "y_result3 = multi_step(model, X_test, cod='numeric')"
      ]
    },
    {
      "cell_type": "code",
      "execution_count": 205,
      "metadata": {
        "id": "-dIUX5-5WGhj"
      },
      "outputs": [
        {
          "name": "stdout",
          "output_type": "stream",
          "text": [
            "one-step: (mês numérico)\n",
            "\tErro MSE = 6.825 \n",
            "\tErro MAE = 1.929\n",
            "\tR² = 0.64\n",
            "\n",
            "multi-step: (mês numérico)\n",
            "\tErro MSE = 8.28 \n",
            "\tErro MAE = 2.413\n",
            "\tR² = 0.563\n",
            "\n"
          ]
        },
        {
          "data": {
            "image/png": "[encoded data removed]",
            "text/plain": [
              "<Figure size 432x288 with 1 Axes>"
            ]
          },
          "metadata": {
            "needs_background": "light"
          },
          "output_type": "display_data"
        }
      ],
      "source": [
        "orig_y_eval = y_test*(_max-_min) + _min\n",
        "orig_y_hat3 = y_result3*(_max-_min) + _min\n",
        "mae_error3 = mean_absolute_error(orig_y_eval, orig_y_hat3)\n",
        "mse_error3 = mean_squared_error(orig_y_eval, orig_y_hat3)\n",
        "r23 = r2_score(orig_y_eval, orig_y_hat3)\n",
        "\n",
        "plt.plot(orig_y_eval, marker='o')\n",
        "plt.plot(orig_y_hat , marker='o')\n",
        "plt.plot(orig_y_hat3, marker='o')\n",
        "plt.legend(['Original','one-step', 'multi-step'])\n",
        "\n",
        "print(f'one-step: (mês numérico)\\n\\tErro MSE = {round(mse_error2,3)} \\n\\tErro MAE = {round(mae_error2,3)}\\n\\tR² = {round(r22,3)}\\n')\n",
        "print(f'multi-step: (mês numérico)\\n\\tErro MSE = {round(mse_error3,3)} \\n\\tErro MAE = {round(mae_error3,3)}\\n\\tR² = {round(r23,3)}\\n')\n",
        "pass;"
      ]
    },
    {
      "cell_type": "markdown",
      "metadata": {},
      "source": [
        "#### Resposta:  \n",
        "> A previsão multi-step é realizada para um período fora do horizonte de valores disponíveis da série, portanto, precisa prever com valores previamente estimados como entradas do modelo, o que gera sucessivamente incerteza e consequentemente, erro.\n",
        ">\n",
        "> Já a previsão one-step reservou os últimos 12 observações do dataset para previsão, mas estas sempre continham, como entrada, valores observados, e não estimados da série.\n",
        "\n",
        "Valores da série: $$ y = \\{y-n, ..., y-2, y-1, y\\} $$\n",
        "Valores previstos: $$ (y = \\{y+1, y+2, ..., y+n\\} $$\n",
        "\n",
        "> Previsão one step (valores previstos só dependem de valores reais da série):  \n",
        "\n",
        "$$\\begin{bmatrix} \n",
        "& obs   &m\t&x1\t&x2\t&x3\t&x4\t&x5\t&x6\t&x7\t&x8\t&x9\t&x10 &x11\t&x12\t&x13\t&prev\t\\\\\n",
        "& 133\t&1\t&y-24\t&y-23\t&y-22\t&y-21\t&y-20\t&y-19\t&y-18\t&y-17\t&y-16\t&y-15\t&y-14\t&y-13\t&y-12\t&y-11\t\\\\\n",
        "& 134\t&2\t&y-23\t&y-22\t&y-21\t&y-20\t&y-19\t&y-18\t&y-17\t&y-16\t&y-15\t&y-14\t&y-13\t&y-12\t&y-11\t&y-10\t\\\\\n",
        "& 135\t&3\t&y-22\t&y-21\t&y-20\t&y-19\t&y-18\t&y-17\t&y-16\t&y-15\t&y-14\t&y-13\t&y-12\t&y-11\t&y-10\t&y-9\t    \\\\\n",
        "& 136\t&4\t&y-21\t&y-20\t&y-19\t&y-18\t&y-17\t&y-16\t&y-15\t&y-14\t&y-13\t&y-12\t&y-11\t&y-10\t&y-9\t&y-8\t    \\\\\n",
        "& 137\t&5\t&y-20\t&y-19\t&y-18\t&y-17\t&y-16\t&y-15\t&y-14\t&y-13\t&y-12\t&y-11\t&y-10\t&y-9\t&y-8\t&y-7\t    \\\\\n",
        "& 138\t&6\t&y-19\t&y-18\t&y-17\t&y-16\t&y-15\t&y-14\t&y-13\t&y-12\t&y-11\t&y-10\t&y-9\t&y-8\t&y-7\t&y-6\t    \\\\\n",
        "& 139\t&7\t&y-18\t&y-17\t&y-16\t&y-15\t&y-14\t&y-13\t&y-12\t&y-11\t&y-10\t&y-9\t&y-8\t&y-7\t&y-6\t&y-5\t    \\\\\n",
        "& 140\t&8\t&y-17\t&y-16\t&y-15\t&y-14\t&y-13\t&y-12\t&y-11\t&y-10\t&y-9    &y-8\t&y-7\t&y-6\t&y-5\t&y-4\t    \\\\\n",
        "& 141\t&9\t&y-16\t&y-15\t&y-14\t&y-13\t&y-12\t&y-11\t&y-10\t&y-9\t&y-8    &y-7\t&y-6\t&y-5\t&y-4\t&y-3\t    \\\\\n",
        "& 142\t&10\t&y-15\t&y-14\t&y-13\t&y-12\t&y-11\t&y-10\t&y-9    &y-8\t&y-7    &y-6\t&y-5\t&y-4\t&y-3\t&y-2\t    \\\\\n",
        "& 143\t&11\t&y-14\t&y-13\t&y-12\t&y-11\t&y-10\t&y-9\t&y-8    &y-7\t&y-6    &y-5\t&y-4\t&y-3\t&y-2\t&y-1\t    \\\\  \n",
        "& 144\t&12\t&y-13\t&y-12\t&y-11\t&y-10\t&y-9\t&y-8\t&y-7    &y-6\t&y-5    &y-4\t&y-3\t&y-2\t&y-1\t&y\t    \\\\  \n",
        "\\end{bmatrix}$$\n",
        "\n",
        "> Previsão multi step (valores previstos dependem de valores previstos anteriormente):  \n",
        "\n",
        "$$\\begin{bmatrix} \n",
        "& obs\t&m\t&x1\t&x2\t&x3\t&x4\t&x5\t&x6\t&x7\t&x8\t&x9\t&x10\t&x11\t&x12\t&x13\t&prev\t\\\\\n",
        "& 144\t&1\t&y-12\t&y-11\t&y-10\t&y-9\t&y-8\t&y-7\t&y-6\t&y-5\t&y-4\t&y-3\t&y-2\t&y-1\t&y\t&y+1\t\\\\\n",
        "& N/A\t&2\t&y-11\t&y-10\t&y-9\t&y-8\t&y-7\t&y-6\t&y-5\t&y-4\t&y-3\t&y-2\t&y-1\t&y\t&y+1\t&y+2\t\\\\\n",
        "& N/A\t&3\t&y-10\t&y-9\t&y-8\t&y-7\t&y-6\t&y-5\t&y-4\t&y-3\t&y-2\t&y-1\t&y\t&y+1\t&y+2\t&y+3\t\\\\\n",
        "& N/A\t&4\t&y-9\t&y-8\t&y-7\t&y-6\t&y-5\t&y-4\t&y-3\t&y-2\t&y-1\t&y\t&y+1\t&y+2\t&y+3\t&y+4\t\\\\\n",
        "& N/A\t&5\t&y-8\t&y-7\t&y-6\t&y-5\t&y-4\t&y-3\t&y-2\t&y-1\t&y\t&y+1\t&y+2\t&y+3\t&y+4\t&y+5\t\\\\\n",
        "& N/A\t&6\t&y-7\t&y-6\t&y-5\t&y-4\t&y-3\t&y-2\t&y-1\t&y\t&y+1\t&y+2\t&y+3\t&y+4\t&y+5\t&y+6\t\\\\\n",
        "& N/A\t&7\t&y-6\t&y-5\t&y-4\t&y-3\t&y-2\t&y-1\t&y\t&y+1\t&y+2\t&y+3\t&y+4\t&y+5\t&y+6\t&y+7\t\\\\\n",
        "& N/A\t&8\t&y-5\t&y-4\t&y-3\t&y-2\t&y-1\t&y\t&y+1\t&y+2\t&y+3\t&y+4\t&y+5\t&y+6\t&y+7\t&y+8\t\\\\\n",
        "& N/A\t&9\t&y-4\t&y-3\t&y-2\t&y-1\t&y\t&y+1\t&y+2\t&y+3\t&y+4\t&y+5\t&y+6\t&y+7\t&y+8\t&y+9\t\\\\\n",
        "& N/A\t&10\t&y-3\t&y-2\t&y-1\t&y\t&y+1\t&y+2\t&y+3\t&y+4\t&y+5\t&y+6\t&y+7\t&y+8\t&y+9\t&y+10\t\\\\\n",
        "& N/A\t&11\t&y-2\t&y-1\t&y\t&y+1\t&y+2\t&y+3\t&y+4\t&y+5\t&y+6\t&y+7\t&y+8\t&y+9\t&y+10\t&y+11\t\\\\\n",
        "& N/A\t&12\t&y-1\t&y\t&y+1\t&y+2\t&y+3\t&y+4\t&y+5\t&y+6\t&y+7\t&y+8\t&y+9\t&y+10\t&y+11\t&y+12\t\\\\\n",
        "\n",
        "\\end{bmatrix}$$\n",
        "\n",
        "\n"
      ]
    },
    {
      "cell_type": "markdown",
      "metadata": {},
      "source": [
        "Note que na previsão multi-step o único valor previsto somente com entradas reais de y é o primeiro, os próximos começam a introduzir valores previstos pelo modelo. É de se esperar, portanto, que quanto menor o tamanho da janela de entrada do modelo, maior o erro da previsão"
      ]
    },
    {
      "cell_type": "markdown",
      "metadata": {
        "id": "h3h5tr49WJaL"
      },
      "source": [
        "#### 3.\tModifique o tamanho da janela de entrada do modelo. Analise os resultados, utilizando as métricas adequadas. "
      ]
    },
    {
      "cell_type": "markdown",
      "metadata": {},
      "source": [
        "Treinando a rede para vários lags"
      ]
    },
    {
      "cell_type": "code",
      "execution_count": 57,
      "metadata": {
        "id": "tQBpyQrQWW-W"
      },
      "outputs": [],
      "source": [
        "lags = range(1, 13)"
      ]
    },
    {
      "cell_type": "code",
      "execution_count": 58,
      "metadata": {},
      "outputs": [],
      "source": [
        "prev = 12\n",
        "n_output = 1\n",
        "hidden_neurons = 20\n",
        "lr = 0.05\n",
        "epochs = 999"
      ]
    },
    {
      "cell_type": "code",
      "execution_count": 59,
      "metadata": {},
      "outputs": [
        {
          "data": {
            "application/vnd.jupyter.widget-view+json": {
              "model_id": "eb9efde2baf84022a3788543dec989d7",
              "version_major": 2,
              "version_minor": 0
            },
            "text/plain": [
              "  0%|          | 0/999 [00:00<?, ?it/s]"
            ]
          },
          "metadata": {},
          "output_type": "display_data"
        },
        {
          "data": {
            "application/vnd.jupyter.widget-view+json": {
              "model_id": "a8dd6c4c6ddb4a0196bf1de57b7f3426",
              "version_major": 2,
              "version_minor": 0
            },
            "text/plain": [
              "  0%|          | 0/999 [00:00<?, ?it/s]"
            ]
          },
          "metadata": {},
          "output_type": "display_data"
        },
        {
          "data": {
            "application/vnd.jupyter.widget-view+json": {
              "model_id": "2aaa3eaf6b404b2aa9150c3172d089da",
              "version_major": 2,
              "version_minor": 0
            },
            "text/plain": [
              "  0%|          | 0/999 [00:00<?, ?it/s]"
            ]
          },
          "metadata": {},
          "output_type": "display_data"
        },
        {
          "data": {
            "application/vnd.jupyter.widget-view+json": {
              "model_id": "8d7544e7d07141efb1535bcc79dfaede",
              "version_major": 2,
              "version_minor": 0
            },
            "text/plain": [
              "  0%|          | 0/999 [00:00<?, ?it/s]"
            ]
          },
          "metadata": {},
          "output_type": "display_data"
        },
        {
          "data": {
            "application/vnd.jupyter.widget-view+json": {
              "model_id": "173a2c43c5a44e82a51c08989e167157",
              "version_major": 2,
              "version_minor": 0
            },
            "text/plain": [
              "  0%|          | 0/999 [00:00<?, ?it/s]"
            ]
          },
          "metadata": {},
          "output_type": "display_data"
        },
        {
          "data": {
            "application/vnd.jupyter.widget-view+json": {
              "model_id": "91fc4efd21574fd19eb1ca2ce972283b",
              "version_major": 2,
              "version_minor": 0
            },
            "text/plain": [
              "  0%|          | 0/999 [00:00<?, ?it/s]"
            ]
          },
          "metadata": {},
          "output_type": "display_data"
        },
        {
          "data": {
            "application/vnd.jupyter.widget-view+json": {
              "model_id": "497a67519ad649819bc4e563d67ceb0c",
              "version_major": 2,
              "version_minor": 0
            },
            "text/plain": [
              "  0%|          | 0/999 [00:00<?, ?it/s]"
            ]
          },
          "metadata": {},
          "output_type": "display_data"
        },
        {
          "data": {
            "application/vnd.jupyter.widget-view+json": {
              "model_id": "19c3448f2f0e4361a2f04dcd0ace9d5c",
              "version_major": 2,
              "version_minor": 0
            },
            "text/plain": [
              "  0%|          | 0/999 [00:00<?, ?it/s]"
            ]
          },
          "metadata": {},
          "output_type": "display_data"
        },
        {
          "data": {
            "application/vnd.jupyter.widget-view+json": {
              "model_id": "eba21e652da34656a6472e057b0db329",
              "version_major": 2,
              "version_minor": 0
            },
            "text/plain": [
              "  0%|          | 0/999 [00:00<?, ?it/s]"
            ]
          },
          "metadata": {},
          "output_type": "display_data"
        },
        {
          "data": {
            "application/vnd.jupyter.widget-view+json": {
              "model_id": "8bfb2c1132214c409f7a1b2ee4f38871",
              "version_major": 2,
              "version_minor": 0
            },
            "text/plain": [
              "  0%|          | 0/999 [00:00<?, ?it/s]"
            ]
          },
          "metadata": {},
          "output_type": "display_data"
        },
        {
          "data": {
            "application/vnd.jupyter.widget-view+json": {
              "model_id": "9c5536f32ff844df9cb8edc7cb96fc09",
              "version_major": 2,
              "version_minor": 0
            },
            "text/plain": [
              "  0%|          | 0/999 [00:00<?, ?it/s]"
            ]
          },
          "metadata": {},
          "output_type": "display_data"
        },
        {
          "data": {
            "application/vnd.jupyter.widget-view+json": {
              "model_id": "466b8bb81ae14911987df58e6e227969",
              "version_major": 2,
              "version_minor": 0
            },
            "text/plain": [
              "  0%|          | 0/999 [00:00<?, ?it/s]"
            ]
          },
          "metadata": {},
          "output_type": "display_data"
        }
      ],
      "source": [
        "d_metrics = {'mae':[],'mse':[],'r2':[],'prev':[]}\n",
        "\n",
        "for lag in lags:\n",
        "    train_val, test_val = transform_data(raw_data, lag=lag, test_split = prev, normalize=True, category='') # numeric\n",
        "\n",
        "    train_values = train_val.values\n",
        "    X_train = train_values[:,:-1]\n",
        "    y_train = train_values[:,-1]\n",
        "    n_input = X_train.shape[1]\n",
        "\n",
        "    test_values = test_val.values\n",
        "    X_test = test_values[:,:-1]\n",
        "    y_test = test_values[:,-1]    \n",
        "\n",
        "    train_dataset = CustomDataset(torch.from_numpy(X_train).float(), torch.from_numpy(y_train).float().unsqueeze(1))\n",
        "    test_dataset = CustomDataset(torch.from_numpy(X_test).float(), torch.from_numpy(y_test).float().unsqueeze(1))\n",
        "\n",
        "    batch_size = 32\n",
        "    train_loader = DataLoader(dataset=train_dataset,batch_size=batch_size)\n",
        "    test_loader = DataLoader(dataset=test_dataset, batch_size=1)\n",
        "\n",
        "    model_lag = NeuralNetwork(n_input = n_input, n_output=n_output, hidden_neurons = hidden_neurons, hidden_activation='sigmoid')\n",
        "    _, _ = train(model_lag, train_loader, epochs, device, lr)\n",
        "\n",
        "    y_result_lag = multi_step(model_lag, X_test, cod='numeric')\n",
        "    orig_y_hat_lag = y_result_lag*(_max-_min) + _min\n",
        "\n",
        "    # salvando previsão e métricas\n",
        "    d_metrics['prev'].append(orig_y_hat_lag)\n",
        "    d_metrics['mae'].append(mean_absolute_error(orig_y_eval, orig_y_hat_lag))\n",
        "    d_metrics['mse'].append(mean_squared_error(orig_y_eval, orig_y_hat_lag))\n",
        "    d_metrics['r2'].append(r2_score(orig_y_eval, orig_y_hat_lag))"
      ]
    },
    {
      "cell_type": "code",
      "execution_count": 60,
      "metadata": {},
      "outputs": [
        {
          "data": {
            "image/png": "[encoded data removed]",
            "text/plain": [
              "<Figure size 864x576 with 4 Axes>"
            ]
          },
          "metadata": {
            "needs_background": "light"
          },
          "output_type": "display_data"
        }
      ],
      "source": [
        "f,ax = plt.subplots(2,2,figsize=(12,8))\n",
        "\n",
        "sns.lineplot(x=lags, y=d_metrics['mae'], ax=ax[0,0])\n",
        "sns.lineplot(x=lags, y=d_metrics['mse'], ax=ax[0,1])\n",
        "sns.lineplot(x=lags, y=d_metrics['r2'],  ax=ax[1,0], label='R²')\n",
        "\n",
        "sns.lineplot(x=lags, y=d_metrics['prev'][0], ax=ax[1,1], label='lag=1', linewidth=2)\n",
        "sns.lineplot(x=lags, y=d_metrics['prev'][4], ax=ax[1,1], label='lag=5', linewidth=2)\n",
        "sns.lineplot(x=lags, y=d_metrics['prev'][-1], ax=ax[1,1], label='lag=12', linewidth=2)\n",
        "sns.lineplot(x=lags, y=orig_y_eval, ax=ax[1,1], marker='o', label='True Values', linewidth=2)\n",
        "\n",
        "plt.setp(ax, xlabel='Lag do modelo')\n",
        "plt.setp(ax[0,0], ylabel='Mean Absolute Error')\n",
        "plt.setp(ax[0,1], ylabel='Mean Square Error')\n",
        "plt.setp(ax[1,0], ylabel='R²')\n",
        "plt.setp(ax[1,1], ylabel='Previsão')\n",
        "plt.setp(ax[-1, -1], xlabel='Horizonte de previsão')\n",
        "\n",
        "pass;"
      ]
    },
    {
      "cell_type": "markdown",
      "metadata": {},
      "source": [
        "#### Resposta:  \n",
        "> O erro diminui à medida que aumentamos a janela do modelo, aumentando a performance do modelo à medida que introduzimos mais valores reais da série para previsão\n",
        "> Notamos no último plot que para a previsão com mais lags se aproxima dos valores reais (conjunto de teste)"
      ]
    },
    {
      "cell_type": "markdown",
      "metadata": {
        "id": "xDJa_TZyWZym"
      },
      "source": [
        "#### 4.\tModifique a topologia da rede para obter um melhor desempenho. Altere seus parâmetros (e.g. número de processadores na camada escondida, tipo de função na camada de saída) e avalie o desempenho."
      ]
    },
    {
      "cell_type": "markdown",
      "metadata": {},
      "source": [
        "Fixando lag"
      ]
    },
    {
      "cell_type": "code",
      "execution_count": 61,
      "metadata": {},
      "outputs": [],
      "source": [
        "lag=12"
      ]
    },
    {
      "cell_type": "code",
      "execution_count": 62,
      "metadata": {
        "id": "Bmp9ehcoWrJ8"
      },
      "outputs": [
        {
          "data": {
            "application/vnd.jupyter.widget-view+json": {
              "model_id": "1d191cc87ae34c8f86164e13d4d783e5",
              "version_major": 2,
              "version_minor": 0
            },
            "text/plain": [
              "  0%|          | 0/999 [00:00<?, ?it/s]"
            ]
          },
          "metadata": {},
          "output_type": "display_data"
        },
        {
          "data": {
            "application/vnd.jupyter.widget-view+json": {
              "model_id": "dbf46da7e6ba44f0b3cc28532e57f259",
              "version_major": 2,
              "version_minor": 0
            },
            "text/plain": [
              "  0%|          | 0/999 [00:00<?, ?it/s]"
            ]
          },
          "metadata": {},
          "output_type": "display_data"
        },
        {
          "data": {
            "application/vnd.jupyter.widget-view+json": {
              "model_id": "d24859e70f13491780dfa615bba08c9d",
              "version_major": 2,
              "version_minor": 0
            },
            "text/plain": [
              "  0%|          | 0/999 [00:00<?, ?it/s]"
            ]
          },
          "metadata": {},
          "output_type": "display_data"
        },
        {
          "data": {
            "application/vnd.jupyter.widget-view+json": {
              "model_id": "f6fd690c78014d43987ec5b5801326b3",
              "version_major": 2,
              "version_minor": 0
            },
            "text/plain": [
              "  0%|          | 0/999 [00:00<?, ?it/s]"
            ]
          },
          "metadata": {},
          "output_type": "display_data"
        },
        {
          "data": {
            "application/vnd.jupyter.widget-view+json": {
              "model_id": "424f4b8b6a7347b6a227a15caee90a4f",
              "version_major": 2,
              "version_minor": 0
            },
            "text/plain": [
              "  0%|          | 0/999 [00:00<?, ?it/s]"
            ]
          },
          "metadata": {},
          "output_type": "display_data"
        }
      ],
      "source": [
        "hidden_neurons = [2, 5, 20, 50, 100]\n",
        "d_metrics_hn = {'mae':[],'mse':[],'r2':[],'prev':[]}\n",
        "\n",
        "train_val, test_val = transform_data(raw_data, lag=lag, test_split = prev, normalize=True, category='') # numeric\n",
        "train_values = train_val.values\n",
        "X_train = train_values[:,:-1]\n",
        "y_train = train_values[:,-1]\n",
        "n_input = X_train.shape[1]\n",
        "test_values = test_val.values\n",
        "X_test = test_values[:,:-1]\n",
        "y_test = test_values[:,-1]\n",
        "train_dataset = CustomDataset(torch.from_numpy(X_train).float(), torch.from_numpy(y_train).float().unsqueeze(1))\n",
        "test_dataset = CustomDataset(torch.from_numpy(X_test).float(), torch.from_numpy(y_test).float().unsqueeze(1))\n",
        "batch_size = 32\n",
        "train_loader = DataLoader(dataset=train_dataset,batch_size=batch_size)\n",
        "test_loader = DataLoader(dataset=test_dataset, batch_size=1)\n",
        "\n",
        "for hn in hidden_neurons:\n",
        "    model_hn = NeuralNetwork(n_input = n_input, n_output=n_output, hidden_neurons = hn, hidden_activation='sigmoid')\n",
        "    _, _ = train(model_hn, train_loader, epochs, device, lr)\n",
        "\n",
        "    y_result_hn = multi_step(model_hn, X_test, cod='numeric')\n",
        "    orig_y_hat_hn = y_result_hn*(_max-_min) + _min\n",
        "\n",
        "    # salvando previsão e métricas\n",
        "    d_metrics_hn['prev'].append(orig_y_hat_hn)\n",
        "    d_metrics_hn['mae'].append(mean_absolute_error(orig_y_eval, orig_y_hat_hn))\n",
        "    d_metrics_hn['mse'].append(mean_squared_error(orig_y_eval, orig_y_hat_hn))\n",
        "    d_metrics_hn['r2'].append(r2_score(orig_y_eval, orig_y_hat_hn))"
      ]
    },
    {
      "cell_type": "code",
      "execution_count": 63,
      "metadata": {},
      "outputs": [
        {
          "data": {
            "image/png": "[encoded data removed]",
            "text/plain": [
              "<Figure size 864x576 with 4 Axes>"
            ]
          },
          "metadata": {
            "needs_background": "light"
          },
          "output_type": "display_data"
        }
      ],
      "source": [
        "lags = range(1, 13)\n",
        "f,ax = plt.subplots(2,2,figsize=(12,8))\n",
        "\n",
        "sns.barplot(x=hidden_neurons, y=d_metrics_hn['mae'], ax=ax[0,0])\n",
        "sns.barplot(x=hidden_neurons, y=d_metrics_hn['mse'], ax=ax[0,1])\n",
        "sns.barplot(x=hidden_neurons, y=d_metrics_hn['r2'],  ax=ax[1,0])\n",
        "\n",
        "for p, hn in zip(d_metrics_hn['prev'], hidden_neurons):\n",
        "    sns.lineplot(x=lags, y=p, ax=ax[1,1], label=f'hn={hn}', linewidth=2)\n",
        "sns.lineplot(x=lags, y=orig_y_eval, ax=ax[1,1], marker='o', label='True Values', linewidth=2)\n",
        "\n",
        "plt.setp(ax, xlabel='hidden neurons')\n",
        "plt.setp(ax[0,0], ylabel='Mean Absolute Error')\n",
        "plt.setp(ax[0,1], ylabel='Mean Square Error')\n",
        "plt.setp(ax[1,0], ylabel='R²')\n",
        "plt.setp(ax[1,1], ylabel='Previsão')\n",
        "plt.setp(ax[-1, -1], xlabel='Horizonte de previsão')\n",
        "pass;"
      ]
    },
    {
      "cell_type": "markdown",
      "metadata": {},
      "source": [
        "#### Resposta:  \n",
        "> Não vimos mudança relevante no desempenho da rede em função do número de neurônios na camada escondida, para diversos valores de lags testados"
      ]
    },
    {
      "cell_type": "markdown",
      "metadata": {},
      "source": [
        "Variando a função de ativação"
      ]
    },
    {
      "cell_type": "code",
      "execution_count": 64,
      "metadata": {},
      "outputs": [],
      "source": [
        "lag=3"
      ]
    },
    {
      "cell_type": "code",
      "execution_count": 65,
      "metadata": {},
      "outputs": [
        {
          "data": {
            "application/vnd.jupyter.widget-view+json": {
              "model_id": "e0576f783bb04e00977ecdae7f71999a",
              "version_major": 2,
              "version_minor": 0
            },
            "text/plain": [
              "  0%|          | 0/999 [00:00<?, ?it/s]"
            ]
          },
          "metadata": {},
          "output_type": "display_data"
        },
        {
          "data": {
            "application/vnd.jupyter.widget-view+json": {
              "model_id": "92df182e36b74159b72a5a0db843e1f1",
              "version_major": 2,
              "version_minor": 0
            },
            "text/plain": [
              "  0%|          | 0/999 [00:00<?, ?it/s]"
            ]
          },
          "metadata": {},
          "output_type": "display_data"
        },
        {
          "data": {
            "application/vnd.jupyter.widget-view+json": {
              "model_id": "d863d9754d2a42eb897ea901ce45a166",
              "version_major": 2,
              "version_minor": 0
            },
            "text/plain": [
              "  0%|          | 0/999 [00:00<?, ?it/s]"
            ]
          },
          "metadata": {},
          "output_type": "display_data"
        },
        {
          "name": "stderr",
          "output_type": "stream",
          "text": [
            "C:\\Users\\bewm\\AppData\\Local\\Temp\\ipykernel_25424\\2557146984.py:34: UserWarning: Implicit dimension choice for softmax has been deprecated. Change the call to include dim=X as an argument.\n",
            "  h1 = self.ha(h)\n"
          ]
        }
      ],
      "source": [
        "funcs = ['sigmoid','relu','softmax']\n",
        "d_metrics_hn = {'mae':[],'mse':[],'r2':[],'prev':[]}\n",
        "\n",
        "train_val, test_val = transform_data(raw_data, lag=lag, test_split = prev, normalize=True, category='') # numeric\n",
        "train_values = train_val.values\n",
        "X_train = train_values[:,:-1]\n",
        "y_train = train_values[:,-1]\n",
        "n_input = X_train.shape[1]\n",
        "test_values = test_val.values\n",
        "X_test = test_values[:,:-1]\n",
        "y_test = test_values[:,-1]\n",
        "train_dataset = CustomDataset(torch.from_numpy(X_train).float(), torch.from_numpy(y_train).float().unsqueeze(1))\n",
        "test_dataset = CustomDataset(torch.from_numpy(X_test).float(), torch.from_numpy(y_test).float().unsqueeze(1))\n",
        "batch_size = 32\n",
        "train_loader = DataLoader(dataset=train_dataset,batch_size=batch_size)\n",
        "test_loader = DataLoader(dataset=test_dataset, batch_size=1)\n",
        "\n",
        "for f in funcs:\n",
        "    model_func = NeuralNetwork(n_input = n_input, n_output=n_output, hidden_neurons = 20, hidden_activation=f)\n",
        "    _, _ = train(model_func, train_loader, epochs, device, lr)\n",
        "\n",
        "    y_result_func = multi_step(model_func, X_test, cod='numeric')\n",
        "    orig_y_hat_func = y_result_func*(_max-_min) + _min\n",
        "\n",
        "    # salvando previsão e métricas\n",
        "    d_metrics_hn['prev'].append(orig_y_hat_func)\n",
        "    d_metrics_hn['mae'].append(mean_absolute_error(orig_y_eval, orig_y_hat_func))\n",
        "    d_metrics_hn['mse'].append(mean_squared_error(orig_y_eval, orig_y_hat_func))\n",
        "    d_metrics_hn['r2'].append(r2_score(orig_y_eval, orig_y_hat_func))\n",
        "    pass;"
      ]
    },
    {
      "cell_type": "code",
      "execution_count": 66,
      "metadata": {},
      "outputs": [
        {
          "data": {
            "image/png": "[encoded data removed]",
            "text/plain": [
              "<Figure size 864x576 with 4 Axes>"
            ]
          },
          "metadata": {
            "needs_background": "light"
          },
          "output_type": "display_data"
        }
      ],
      "source": [
        "lags = range(1, 13)\n",
        "f,ax = plt.subplots(2,2,figsize=(12,8))\n",
        "\n",
        "sns.barplot(x=funcs, y=d_metrics_hn['mae'], ax=ax[0,0])\n",
        "sns.barplot(x=funcs, y=d_metrics_hn['mse'], ax=ax[0,1])\n",
        "sns.barplot(x=funcs, y=d_metrics_hn['r2'],  ax=ax[1,0])\n",
        "\n",
        "for p, f in zip(d_metrics_hn['prev'], funcs):\n",
        "    sns.lineplot(x=lags, y=p, ax=ax[1,1], label=f'activation={f}', linewidth=2)\n",
        "sns.lineplot(x=lags, y=orig_y_eval, ax=ax[1,1], marker='o', label='True Values', linewidth=2)\n",
        "\n",
        "plt.setp(ax, xlabel='Activation functions')\n",
        "plt.setp(ax[0,0], ylabel='Mean Absolute Error')\n",
        "plt.setp(ax[0,1], ylabel='Mean Square Error')\n",
        "plt.setp(ax[1,0], ylabel='R²')\n",
        "plt.setp(ax[1,1], ylabel='Previsão')\n",
        "plt.setp(ax[-1, -1], xlabel='Horizonte de previsão')\n",
        "pass;"
      ]
    },
    {
      "cell_type": "markdown",
      "metadata": {},
      "source": [
        "#### Resposta:  \n",
        "> Para um lag alto, pou seja, muitas entradas, não notamos diferença de performance do modelo quando variamos a função de ativação. Já para lags da ordem de 1,2,3 (valores baixos), a função de ativação ReLu apresenta desempenho melhor que as demais"
      ]
    },
    {
      "cell_type": "markdown",
      "metadata": {},
      "source": [
        "#### 5. Modifique a função de previsão multi-step para permitir a codificação binária da variável mês. Em seguida, treine um modelo MLP usando a codificação binária para a variável exógena e faça a previsão multi-step e analise o resultado. \n",
        "\n",
        "OBS: Para este item, basta alterar a atualização da variável exógena na condição desejada (no caso, cod = 'binary')"
      ]
    },
    {
      "cell_type": "markdown",
      "metadata": {},
      "source": [
        "Definindo uma função que pega incrementa um ao mes binário recebido como parametro"
      ]
    },
    {
      "cell_type": "code",
      "execution_count": 181,
      "metadata": {},
      "outputs": [
        {
          "data": {
            "text/plain": [
              "'0001'"
            ]
          },
          "execution_count": 181,
          "metadata": {},
          "output_type": "execute_result"
        },
        {
          "data": {
            "text/plain": [
              "'1011'"
            ]
          },
          "execution_count": 181,
          "metadata": {},
          "output_type": "execute_result"
        },
        {
          "data": {
            "text/plain": [
              "'0010'"
            ]
          },
          "execution_count": 181,
          "metadata": {},
          "output_type": "execute_result"
        }
      ],
      "source": [
        "def next_month_binary(x):\n",
        "    month = ''.join([str(i).split('.')[0] for i in x[:4]])\n",
        "    month = int(month, 2)\n",
        "    if month == 12: month = 1\n",
        "    else: month = month+1\n",
        "    return format(int(bin(month).split('b')[1]), '#04')\n",
        "\n",
        "next_month_binary([1., 1., 0., 0.])\n",
        "next_month_binary([1., 0., 1., 0.])\n",
        "next_month_binary(X_test[0][:4])"
      ]
    },
    {
      "cell_type": "markdown",
      "metadata": {},
      "source": [
        "Reescrevendo `multi_step` para o caso de mês binário"
      ]
    },
    {
      "cell_type": "code",
      "execution_count": 183,
      "metadata": {},
      "outputs": [],
      "source": [
        "def multi_step(model, X_test, cod='numeric'):\n",
        "  y_result = []\n",
        "  X_t = np.copy(X_test[0])\n",
        "  \n",
        "  for i in range(prev):\n",
        "      y_hat = model(torch.from_numpy(X_t).float())\n",
        "      # print (X_t, '\\n', y_hat)\n",
        "      \n",
        "      if cod == 'numeric':\n",
        "        #Ajeitando a codificação. Transformamos para o valor do mês e somamos 1 (para o próximo passo) e \n",
        "        #depois pegamos o resto da divisão por 12 (para que o mês fique sempre entre 0 e 11)\n",
        "        tmp = int(X_t[0] * 12 + 1) % 12\n",
        "        \n",
        "        #Alterando a variável mês\n",
        "        X_t[0] = tmp/12\n",
        "        \n",
        "        #Movendo todos os registros, 'deslizando a janela'\n",
        "        X_t[1:X_t.shape[0]-1] = X_t[2:]\n",
        "\n",
        "      elif cod == 'binary':\n",
        "        # incrementa um no mes, em binario, guarda para a próxima previsao, nas 4 primeiras posicoes do X_t\n",
        "        #Alterando a variável mês, convertendo de volta em binário\n",
        "        next_month = next_month_binary(X_t[:4])\n",
        "        X_t[:4] = [i for i in next_month]\n",
        "        \n",
        "        #Movendo todos os registros, 'deslizando a janela'\n",
        "        X_t[4:X_t.shape[0]-1] = X_t[5:]\n",
        "\n",
        "      else:\n",
        "        print('Erro de codificação.')\n",
        "        break\n",
        "      \n",
        "      X_t[-1] = y_hat\n",
        "      y_result.append(y_hat[0].detach().numpy())\n",
        "  return np.array(y_result)"
      ]
    },
    {
      "cell_type": "code",
      "execution_count": 200,
      "metadata": {},
      "outputs": [
        {
          "data": {
            "application/vnd.jupyter.widget-view+json": {
              "model_id": "573ed90a867940aaad857585dddea429",
              "version_major": 2,
              "version_minor": 0
            },
            "text/plain": [
              "  0%|          | 0/999 [00:00<?, ?it/s]"
            ]
          },
          "metadata": {},
          "output_type": "display_data"
        }
      ],
      "source": [
        "train_val, test_val = transform_data(raw_data, lag=12, test_split = prev, normalize=True, category='binary')\n",
        "train_values = train_val.values\n",
        "X_train = train_values[:,:-1]\n",
        "y_train = train_values[:,-1]\n",
        "n_input = X_train.shape[1]\n",
        "test_values = test_val.values\n",
        "X_test = test_values[:,:-1]\n",
        "y_test = test_values[:,-1]\n",
        "train_dataset = CustomDataset(torch.from_numpy(X_train).float(), torch.from_numpy(y_train).float().unsqueeze(1))\n",
        "test_dataset = CustomDataset(torch.from_numpy(X_test).float(), torch.from_numpy(y_test).float().unsqueeze(1))\n",
        "batch_size = 32\n",
        "train_loader = DataLoader(dataset=train_dataset,batch_size=batch_size)\n",
        "test_loader = DataLoader(dataset=test_dataset, batch_size=1)\n",
        "\n",
        "model5 = NeuralNetwork(n_input = n_input, n_output=n_output, hidden_neurons = 20, hidden_activation='sigmoid')\n",
        "\n",
        "lr = 0.05\n",
        "epochs = 999\n",
        "\n",
        "history, y_hat5 = train(model5, train_loader, epochs, device, lr)"
      ]
    },
    {
      "cell_type": "code",
      "execution_count": 203,
      "metadata": {},
      "outputs": [
        {
          "name": "stdout",
          "output_type": "stream",
          "text": [
            "multi-step: (mês numérico)\n",
            "\tErro MSE = 8.28 \n",
            "\tErro MAE = 2.413\n",
            "\tR² = 0.563\n",
            "\n",
            "multi-step: (mês binário)\n",
            "\tErro MSE = 8.985 \n",
            "\tErro MAE = 2.294\n",
            "\tR² = 0.526\n",
            "\n"
          ]
        },
        {
          "data": {
            "image/png": "[encoded data removed]",
            "text/plain": [
              "<Figure size 432x288 with 1 Axes>"
            ]
          },
          "metadata": {
            "needs_background": "light"
          },
          "output_type": "display_data"
        }
      ],
      "source": [
        "y_result5 = multi_step(model5, X_test, cod='binary')\n",
        "\n",
        "orig_y_hat5 = y_result5*(_max-_min) + _min\n",
        "mae_error5 = mean_absolute_error(orig_y_eval, orig_y_hat5)\n",
        "mse_error5 = mean_squared_error(orig_y_eval, orig_y_hat5)\n",
        "r25 = r2_score(orig_y_eval, orig_y_hat5)\n",
        "\n",
        "plt.plot(orig_y_eval, marker='o')\n",
        "plt.plot(orig_y_hat3, marker='o') # multistep com mes numerico ficou salvo aqui\n",
        "plt.plot(orig_y_hat5, marker='o')\n",
        "plt.legend(['Original','multi-step(num)', 'multi-step(bin)'])\n",
        "\n",
        "print(f'multi-step: (mês numérico)\\n\\tErro MSE = {round(mse_error3,3)} \\n\\tErro MAE = {round(mae_error3,3)}\\n\\tR² = {round(r23,3)}\\n')\n",
        "print(f'multi-step: (mês binário)\\n\\tErro MSE = {round(mse_error5,3)} \\n\\tErro MAE = {round(mae_error5,3)}\\n\\tR² = {round(r25,3)}\\n')\n",
        "\n",
        "pass;"
      ]
    },
    {
      "cell_type": "markdown",
      "metadata": {},
      "source": [
        "#### Resposta:  \n",
        "> O modelo multi-step com mês binário obteve performance bem semelhante ao modelo com mês numérico, obtendo menor erro apenas na métrica mean absolute error"
      ]
    },
    {
      "cell_type": "markdown",
      "metadata": {},
      "source": []
    }
  ],
  "metadata": {
    "colab": {
      "collapsed_sections": [],
      "name": "class_pratica2.ipynb",
      "provenance": []
    },
    "interpreter": {
      "hash": "b1b6277c8e89a095dc75da29c6a36f34f492a007def3a7a804d11ce4a55eeb81"
    },
    "kernelspec": {
      "display_name": "Python 3.8.3 ('env1')",
      "language": "python",
      "name": "python3"
    },
    "language_info": {
      "codemirror_mode": {
        "name": "ipython",
        "version": 3
      },
      "file_extension": ".py",
      "mimetype": "text/x-python",
      "name": "python",
      "nbconvert_exporter": "python",
      "pygments_lexer": "ipython3",
      "version": "3.8.3"
    },
    "widgets": {
      "application/vnd.jupyter.widget-state+json": {
        "205c95d2c4514daf9bb625dbd8d8b90d": {
          "model_module": "@jupyter-widgets/controls",
          "model_module_version": "1.5.0",
          "model_name": "HBoxModel",
          "state": {
            "_dom_classes": [],
            "_model_module": "@jupyter-widgets/controls",
            "_model_module_version": "1.5.0",
            "_model_name": "HBoxModel",
            "_view_count": null,
            "_view_module": "@jupyter-widgets/controls",
            "_view_module_version": "1.5.0",
            "_view_name": "HBoxView",
            "box_style": "",
            "children": [
              "IPY_MODEL_5885dd2f223d496e922f2307456c3089",
              "IPY_MODEL_7442bffb6eb84fc3abbf0a068c27bf7f",
              "IPY_MODEL_29c00442e8fc442f942ba4d47ef88bb4"
            ],
            "layout": "IPY_MODEL_ebe7941aa6e541029bf9fd2b656ef2e6"
          }
        },
        "213aeafef243450c91e846f60daec0e2": {
          "model_module": "@jupyter-widgets/base",
          "model_module_version": "1.2.0",
          "model_name": "LayoutModel",
          "state": {
            "_model_module": "@jupyter-widgets/base",
            "_model_module_version": "1.2.0",
            "_model_name": "LayoutModel",
            "_view_count": null,
            "_view_module": "@jupyter-widgets/base",
            "_view_module_version": "1.2.0",
            "_view_name": "LayoutView",
            "align_content": null,
            "align_items": null,
            "align_self": null,
            "border": null,
            "bottom": null,
            "display": null,
            "flex": null,
            "flex_flow": null,
            "grid_area": null,
            "grid_auto_columns": null,
            "grid_auto_flow": null,
            "grid_auto_rows": null,
            "grid_column": null,
            "grid_gap": null,
            "grid_row": null,
            "grid_template_areas": null,
            "grid_template_columns": null,
            "grid_template_rows": null,
            "height": null,
            "justify_content": null,
            "justify_items": null,
            "left": null,
            "margin": null,
            "max_height": null,
            "max_width": null,
            "min_height": null,
            "min_width": null,
            "object_fit": null,
            "object_position": null,
            "order": null,
            "overflow": null,
            "overflow_x": null,
            "overflow_y": null,
            "padding": null,
            "right": null,
            "top": null,
            "visibility": null,
            "width": null
          }
        },
        "2249c9f23e5b4cbfb978f1f42c169a2d": {
          "model_module": "@jupyter-widgets/base",
          "model_module_version": "1.2.0",
          "model_name": "LayoutModel",
          "state": {
            "_model_module": "@jupyter-widgets/base",
            "_model_module_version": "1.2.0",
            "_model_name": "LayoutModel",
            "_view_count": null,
            "_view_module": "@jupyter-widgets/base",
            "_view_module_version": "1.2.0",
            "_view_name": "LayoutView",
            "align_content": null,
            "align_items": null,
            "align_self": null,
            "border": null,
            "bottom": null,
            "display": null,
            "flex": null,
            "flex_flow": null,
            "grid_area": null,
            "grid_auto_columns": null,
            "grid_auto_flow": null,
            "grid_auto_rows": null,
            "grid_column": null,
            "grid_gap": null,
            "grid_row": null,
            "grid_template_areas": null,
            "grid_template_columns": null,
            "grid_template_rows": null,
            "height": null,
            "justify_content": null,
            "justify_items": null,
            "left": null,
            "margin": null,
            "max_height": null,
            "max_width": null,
            "min_height": null,
            "min_width": null,
            "object_fit": null,
            "object_position": null,
            "order": null,
            "overflow": null,
            "overflow_x": null,
            "overflow_y": null,
            "padding": null,
            "right": null,
            "top": null,
            "visibility": null,
            "width": null
          }
        },
        "29c00442e8fc442f942ba4d47ef88bb4": {
          "model_module": "@jupyter-widgets/controls",
          "model_module_version": "1.5.0",
          "model_name": "HTMLModel",
          "state": {
            "_dom_classes": [],
            "_model_module": "@jupyter-widgets/controls",
            "_model_module_version": "1.5.0",
            "_model_name": "HTMLModel",
            "_view_count": null,
            "_view_module": "@jupyter-widgets/controls",
            "_view_module_version": "1.5.0",
            "_view_name": "HTMLView",
            "description": "",
            "description_tooltip": null,
            "layout": "IPY_MODEL_2249c9f23e5b4cbfb978f1f42c169a2d",
            "placeholder": "​",
            "style": "IPY_MODEL_ae2a33d32d8a4dc3ba33fa28ad63b508",
            "value": " 1500/1500 [00:05&lt;00:00, 267.85it/s]"
          }
        },
        "2b993121246043db8d11f037eb005d6a": {
          "model_module": "@jupyter-widgets/base",
          "model_module_version": "1.2.0",
          "model_name": "LayoutModel",
          "state": {
            "_model_module": "@jupyter-widgets/base",
            "_model_module_version": "1.2.0",
            "_model_name": "LayoutModel",
            "_view_count": null,
            "_view_module": "@jupyter-widgets/base",
            "_view_module_version": "1.2.0",
            "_view_name": "LayoutView",
            "align_content": null,
            "align_items": null,
            "align_self": null,
            "border": null,
            "bottom": null,
            "display": null,
            "flex": null,
            "flex_flow": null,
            "grid_area": null,
            "grid_auto_columns": null,
            "grid_auto_flow": null,
            "grid_auto_rows": null,
            "grid_column": null,
            "grid_gap": null,
            "grid_row": null,
            "grid_template_areas": null,
            "grid_template_columns": null,
            "grid_template_rows": null,
            "height": null,
            "justify_content": null,
            "justify_items": null,
            "left": null,
            "margin": null,
            "max_height": null,
            "max_width": null,
            "min_height": null,
            "min_width": null,
            "object_fit": null,
            "object_position": null,
            "order": null,
            "overflow": null,
            "overflow_x": null,
            "overflow_y": null,
            "padding": null,
            "right": null,
            "top": null,
            "visibility": null,
            "width": null
          }
        },
        "5885dd2f223d496e922f2307456c3089": {
          "model_module": "@jupyter-widgets/controls",
          "model_module_version": "1.5.0",
          "model_name": "HTMLModel",
          "state": {
            "_dom_classes": [],
            "_model_module": "@jupyter-widgets/controls",
            "_model_module_version": "1.5.0",
            "_model_name": "HTMLModel",
            "_view_count": null,
            "_view_module": "@jupyter-widgets/controls",
            "_view_module_version": "1.5.0",
            "_view_name": "HTMLView",
            "description": "",
            "description_tooltip": null,
            "layout": "IPY_MODEL_2b993121246043db8d11f037eb005d6a",
            "placeholder": "​",
            "style": "IPY_MODEL_f5b4195c7dfd4a16ac3d5f333a8dd561",
            "value": "100%"
          }
        },
        "7442bffb6eb84fc3abbf0a068c27bf7f": {
          "model_module": "@jupyter-widgets/controls",
          "model_module_version": "1.5.0",
          "model_name": "FloatProgressModel",
          "state": {
            "_dom_classes": [],
            "_model_module": "@jupyter-widgets/controls",
            "_model_module_version": "1.5.0",
            "_model_name": "FloatProgressModel",
            "_view_count": null,
            "_view_module": "@jupyter-widgets/controls",
            "_view_module_version": "1.5.0",
            "_view_name": "ProgressView",
            "bar_style": "success",
            "description": "",
            "description_tooltip": null,
            "layout": "IPY_MODEL_213aeafef243450c91e846f60daec0e2",
            "max": 1500,
            "min": 0,
            "orientation": "horizontal",
            "style": "IPY_MODEL_7ef292e1bed745e0a786035a63a736d0",
            "value": 1500
          }
        },
        "7ef292e1bed745e0a786035a63a736d0": {
          "model_module": "@jupyter-widgets/controls",
          "model_module_version": "1.5.0",
          "model_name": "ProgressStyleModel",
          "state": {
            "_model_module": "@jupyter-widgets/controls",
            "_model_module_version": "1.5.0",
            "_model_name": "ProgressStyleModel",
            "_view_count": null,
            "_view_module": "@jupyter-widgets/base",
            "_view_module_version": "1.2.0",
            "_view_name": "StyleView",
            "bar_color": null,
            "description_width": ""
          }
        },
        "ae2a33d32d8a4dc3ba33fa28ad63b508": {
          "model_module": "@jupyter-widgets/controls",
          "model_module_version": "1.5.0",
          "model_name": "DescriptionStyleModel",
          "state": {
            "_model_module": "@jupyter-widgets/controls",
            "_model_module_version": "1.5.0",
            "_model_name": "DescriptionStyleModel",
            "_view_count": null,
            "_view_module": "@jupyter-widgets/base",
            "_view_module_version": "1.2.0",
            "_view_name": "StyleView",
            "description_width": ""
          }
        },
        "ebe7941aa6e541029bf9fd2b656ef2e6": {
          "model_module": "@jupyter-widgets/base",
          "model_module_version": "1.2.0",
          "model_name": "LayoutModel",
          "state": {
            "_model_module": "@jupyter-widgets/base",
            "_model_module_version": "1.2.0",
            "_model_name": "LayoutModel",
            "_view_count": null,
            "_view_module": "@jupyter-widgets/base",
            "_view_module_version": "1.2.0",
            "_view_name": "LayoutView",
            "align_content": null,
            "align_items": null,
            "align_self": null,
            "border": null,
            "bottom": null,
            "display": null,
            "flex": null,
            "flex_flow": null,
            "grid_area": null,
            "grid_auto_columns": null,
            "grid_auto_flow": null,
            "grid_auto_rows": null,
            "grid_column": null,
            "grid_gap": null,
            "grid_row": null,
            "grid_template_areas": null,
            "grid_template_columns": null,
            "grid_template_rows": null,
            "height": null,
            "justify_content": null,
            "justify_items": null,
            "left": null,
            "margin": null,
            "max_height": null,
            "max_width": null,
            "min_height": null,
            "min_width": null,
            "object_fit": null,
            "object_position": null,
            "order": null,
            "overflow": null,
            "overflow_x": null,
            "overflow_y": null,
            "padding": null,
            "right": null,
            "top": null,
            "visibility": null,
            "width": null
          }
        },
        "f5b4195c7dfd4a16ac3d5f333a8dd561": {
          "model_module": "@jupyter-widgets/controls",
          "model_module_version": "1.5.0",
          "model_name": "DescriptionStyleModel",
          "state": {
            "_model_module": "@jupyter-widgets/controls",
            "_model_module_version": "1.5.0",
            "_model_name": "DescriptionStyleModel",
            "_view_count": null,
            "_view_module": "@jupyter-widgets/base",
            "_view_module_version": "1.2.0",
            "_view_name": "StyleView",
            "description_width": ""
          }
        }
      }
    }
  },
  "nbformat": 4,
  "nbformat_minor": 0
}
